{
 "cells": [
  {
   "cell_type": "code",
   "execution_count": 1,
   "metadata": {},
   "outputs": [
    {
     "data": {
      "text/plain": [
       "<module 'oma.pascal.pascal' from '/home/jupyter/digit_recognition/oma/pascal/pascal.py'>"
      ]
     },
     "execution_count": 1,
     "metadata": {},
     "output_type": "execute_result"
    }
   ],
   "source": [
    "import oma\n",
    "import pandas as pd\n",
    "\n",
    "from importlib import reload\n",
    "\n",
    "reload(oma.pascal)\n",
    "reload(oma.pascal.pascal)"
   ]
  },
  {
   "cell_type": "markdown",
   "metadata": {},
   "source": [
    "# Correct paths to relative paths"
   ]
  },
  {
   "cell_type": "code",
   "execution_count": 2,
   "metadata": {},
   "outputs": [
    {
     "name": "stderr",
     "output_type": "stream",
     "text": [
      "100%|██████████| 371/371 [00:00<00:00, 2330.19it/s]\n"
     ]
    }
   ],
   "source": [
    "oma.pascal.pascal.correct_all_paths('Datasets/labels/', 'Datasets/img/')"
   ]
  },
  {
   "cell_type": "markdown",
   "metadata": {},
   "source": [
    "# Get all objects"
   ]
  },
  {
   "cell_type": "code",
   "execution_count": 3,
   "metadata": {},
   "outputs": [
    {
     "name": "stderr",
     "output_type": "stream",
     "text": [
      "100%|██████████| 371/371 [00:05<00:00, 64.72it/s]\n"
     ]
    }
   ],
   "source": [
    "objects = oma.pascal.pascal.get_all_objects('Datasets/labels/')"
   ]
  },
  {
   "cell_type": "code",
   "execution_count": 4,
   "metadata": {},
   "outputs": [
    {
     "data": {
      "text/plain": [
       "category\n",
       "\"      1\n",
       ".    268\n",
       "0    666\n",
       "1    188\n",
       "2    142\n",
       "3    107\n",
       "4    108\n",
       "5    113\n",
       "6     99\n",
       "7     80\n",
       "8     80\n",
       "9     65\n",
       "Name: category, dtype: int64"
      ]
     },
     "execution_count": 4,
     "metadata": {},
     "output_type": "execute_result"
    }
   ],
   "source": [
    "objects.groupby(\"category\")[\"category\"].count()"
   ]
  },
  {
   "cell_type": "code",
   "execution_count": 5,
   "metadata": {},
   "outputs": [
    {
     "data": {
      "text/html": [
       "<div>\n",
       "<style scoped>\n",
       "    .dataframe tbody tr th:only-of-type {\n",
       "        vertical-align: middle;\n",
       "    }\n",
       "\n",
       "    .dataframe tbody tr th {\n",
       "        vertical-align: top;\n",
       "    }\n",
       "\n",
       "    .dataframe thead th {\n",
       "        text-align: right;\n",
       "    }\n",
       "</style>\n",
       "<table border=\"1\" class=\"dataframe\">\n",
       "  <thead>\n",
       "    <tr style=\"text-align: right;\">\n",
       "      <th></th>\n",
       "      <th>image_path</th>\n",
       "      <th>name</th>\n",
       "      <th>category</th>\n",
       "      <th>object_n</th>\n",
       "      <th>xmin</th>\n",
       "      <th>xmax</th>\n",
       "      <th>ymin</th>\n",
       "      <th>ymax</th>\n",
       "    </tr>\n",
       "  </thead>\n",
       "  <tbody>\n",
       "    <tr>\n",
       "      <th>0</th>\n",
       "      <td>Datasets/img/05417700b76f523cc74f17d86d778a527...</td>\n",
       "      <td>05417700b76f523cc74f17d86d778a5273d99869.jpg.jpg</td>\n",
       "      <td>5</td>\n",
       "      <td>0</td>\n",
       "      <td>761</td>\n",
       "      <td>933</td>\n",
       "      <td>405</td>\n",
       "      <td>684</td>\n",
       "    </tr>\n",
       "    <tr>\n",
       "      <th>1</th>\n",
       "      <td>Datasets/img/05417700b76f523cc74f17d86d778a527...</td>\n",
       "      <td>05417700b76f523cc74f17d86d778a5273d99869.jpg.jpg</td>\n",
       "      <td>7</td>\n",
       "      <td>1</td>\n",
       "      <td>1017</td>\n",
       "      <td>1180</td>\n",
       "      <td>399</td>\n",
       "      <td>682</td>\n",
       "    </tr>\n",
       "    <tr>\n",
       "      <th>2</th>\n",
       "      <td>Datasets/img/05417700b76f523cc74f17d86d778a527...</td>\n",
       "      <td>05417700b76f523cc74f17d86d778a5273d99869.jpg.jpg</td>\n",
       "      <td>.</td>\n",
       "      <td>2</td>\n",
       "      <td>1156</td>\n",
       "      <td>1218</td>\n",
       "      <td>618</td>\n",
       "      <td>672</td>\n",
       "    </tr>\n",
       "    <tr>\n",
       "      <th>3</th>\n",
       "      <td>Datasets/img/05417700b76f523cc74f17d86d778a527...</td>\n",
       "      <td>05417700b76f523cc74f17d86d778a5273d99869.jpg.jpg</td>\n",
       "      <td>0</td>\n",
       "      <td>3</td>\n",
       "      <td>1218</td>\n",
       "      <td>1421</td>\n",
       "      <td>393</td>\n",
       "      <td>660</td>\n",
       "    </tr>\n",
       "    <tr>\n",
       "      <th>4</th>\n",
       "      <td>Datasets/img/05417700b76f523cc74f17d86d778a527...</td>\n",
       "      <td>05417700b76f523cc74f17d86d778a5273d99869.jpg.jpg</td>\n",
       "      <td>0</td>\n",
       "      <td>4</td>\n",
       "      <td>1446</td>\n",
       "      <td>1646</td>\n",
       "      <td>388</td>\n",
       "      <td>668</td>\n",
       "    </tr>\n",
       "  </tbody>\n",
       "</table>\n",
       "</div>"
      ],
      "text/plain": [
       "                                          image_path  \\\n",
       "0  Datasets/img/05417700b76f523cc74f17d86d778a527...   \n",
       "1  Datasets/img/05417700b76f523cc74f17d86d778a527...   \n",
       "2  Datasets/img/05417700b76f523cc74f17d86d778a527...   \n",
       "3  Datasets/img/05417700b76f523cc74f17d86d778a527...   \n",
       "4  Datasets/img/05417700b76f523cc74f17d86d778a527...   \n",
       "\n",
       "                                               name category object_n  xmin  \\\n",
       "0  05417700b76f523cc74f17d86d778a5273d99869.jpg.jpg        5        0   761   \n",
       "1  05417700b76f523cc74f17d86d778a5273d99869.jpg.jpg        7        1  1017   \n",
       "2  05417700b76f523cc74f17d86d778a5273d99869.jpg.jpg        .        2  1156   \n",
       "3  05417700b76f523cc74f17d86d778a5273d99869.jpg.jpg        0        3  1218   \n",
       "4  05417700b76f523cc74f17d86d778a5273d99869.jpg.jpg        0        4  1446   \n",
       "\n",
       "   xmax ymin ymax  \n",
       "0   933  405  684  \n",
       "1  1180  399  682  \n",
       "2  1218  618  672  \n",
       "3  1421  393  660  \n",
       "4  1646  388  668  "
      ]
     },
     "execution_count": 5,
     "metadata": {},
     "output_type": "execute_result"
    }
   ],
   "source": [
    "objects.head()"
   ]
  },
  {
   "cell_type": "markdown",
   "metadata": {},
   "source": [
    "# Export to FRCNN format"
   ]
  },
  {
   "cell_type": "code",
   "execution_count": 6,
   "metadata": {},
   "outputs": [
    {
     "data": {
      "text/html": [
       "<div>\n",
       "<style scoped>\n",
       "    .dataframe tbody tr th:only-of-type {\n",
       "        vertical-align: middle;\n",
       "    }\n",
       "\n",
       "    .dataframe tbody tr th {\n",
       "        vertical-align: top;\n",
       "    }\n",
       "\n",
       "    .dataframe thead th {\n",
       "        text-align: right;\n",
       "    }\n",
       "</style>\n",
       "<table border=\"1\" class=\"dataframe\">\n",
       "  <thead>\n",
       "    <tr style=\"text-align: right;\">\n",
       "      <th></th>\n",
       "      <th>image_path</th>\n",
       "      <th>name</th>\n",
       "      <th>category</th>\n",
       "      <th>object_n</th>\n",
       "      <th>xmin</th>\n",
       "      <th>xmax</th>\n",
       "      <th>ymin</th>\n",
       "      <th>ymax</th>\n",
       "    </tr>\n",
       "  </thead>\n",
       "  <tbody>\n",
       "    <tr>\n",
       "      <th>0</th>\n",
       "      <td>Datasets/img/05417700b76f523cc74f17d86d778a527...</td>\n",
       "      <td>05417700b76f523cc74f17d86d778a5273d99869.jpg.jpg</td>\n",
       "      <td>5</td>\n",
       "      <td>0</td>\n",
       "      <td>761</td>\n",
       "      <td>933</td>\n",
       "      <td>405</td>\n",
       "      <td>684</td>\n",
       "    </tr>\n",
       "    <tr>\n",
       "      <th>1</th>\n",
       "      <td>Datasets/img/05417700b76f523cc74f17d86d778a527...</td>\n",
       "      <td>05417700b76f523cc74f17d86d778a5273d99869.jpg.jpg</td>\n",
       "      <td>7</td>\n",
       "      <td>1</td>\n",
       "      <td>1017</td>\n",
       "      <td>1180</td>\n",
       "      <td>399</td>\n",
       "      <td>682</td>\n",
       "    </tr>\n",
       "    <tr>\n",
       "      <th>2</th>\n",
       "      <td>Datasets/img/05417700b76f523cc74f17d86d778a527...</td>\n",
       "      <td>05417700b76f523cc74f17d86d778a5273d99869.jpg.jpg</td>\n",
       "      <td>.</td>\n",
       "      <td>2</td>\n",
       "      <td>1156</td>\n",
       "      <td>1218</td>\n",
       "      <td>618</td>\n",
       "      <td>672</td>\n",
       "    </tr>\n",
       "    <tr>\n",
       "      <th>3</th>\n",
       "      <td>Datasets/img/05417700b76f523cc74f17d86d778a527...</td>\n",
       "      <td>05417700b76f523cc74f17d86d778a5273d99869.jpg.jpg</td>\n",
       "      <td>0</td>\n",
       "      <td>3</td>\n",
       "      <td>1218</td>\n",
       "      <td>1421</td>\n",
       "      <td>393</td>\n",
       "      <td>660</td>\n",
       "    </tr>\n",
       "    <tr>\n",
       "      <th>4</th>\n",
       "      <td>Datasets/img/05417700b76f523cc74f17d86d778a527...</td>\n",
       "      <td>05417700b76f523cc74f17d86d778a5273d99869.jpg.jpg</td>\n",
       "      <td>0</td>\n",
       "      <td>4</td>\n",
       "      <td>1446</td>\n",
       "      <td>1646</td>\n",
       "      <td>388</td>\n",
       "      <td>668</td>\n",
       "    </tr>\n",
       "  </tbody>\n",
       "</table>\n",
       "</div>"
      ],
      "text/plain": [
       "                                          image_path  \\\n",
       "0  Datasets/img/05417700b76f523cc74f17d86d778a527...   \n",
       "1  Datasets/img/05417700b76f523cc74f17d86d778a527...   \n",
       "2  Datasets/img/05417700b76f523cc74f17d86d778a527...   \n",
       "3  Datasets/img/05417700b76f523cc74f17d86d778a527...   \n",
       "4  Datasets/img/05417700b76f523cc74f17d86d778a527...   \n",
       "\n",
       "                                               name category object_n  xmin  \\\n",
       "0  05417700b76f523cc74f17d86d778a5273d99869.jpg.jpg        5        0   761   \n",
       "1  05417700b76f523cc74f17d86d778a5273d99869.jpg.jpg        7        1  1017   \n",
       "2  05417700b76f523cc74f17d86d778a5273d99869.jpg.jpg        .        2  1156   \n",
       "3  05417700b76f523cc74f17d86d778a5273d99869.jpg.jpg        0        3  1218   \n",
       "4  05417700b76f523cc74f17d86d778a5273d99869.jpg.jpg        0        4  1446   \n",
       "\n",
       "   xmax ymin ymax  \n",
       "0   933  405  684  \n",
       "1  1180  399  682  \n",
       "2  1218  618  672  \n",
       "3  1421  393  660  \n",
       "4  1646  388  668  "
      ]
     },
     "execution_count": 6,
     "metadata": {},
     "output_type": "execute_result"
    }
   ],
   "source": [
    "objects.head()"
   ]
  },
  {
   "cell_type": "code",
   "execution_count": 7,
   "metadata": {},
   "outputs": [
    {
     "name": "stderr",
     "output_type": "stream",
     "text": [
      "/usr/local/lib/python3.5/dist-packages/pandas/core/generic.py:2378: PerformanceWarning: \n",
      "your performance may suffer as PyTables will pickle object types that it cannot\n",
      "map directly to c-types [inferred_type->mixed-integer,key->block0_values] [items->['image_path', 'xmin', 'ymin', 'xmax', 'ymax', 'category', 'type']]\n",
      "\n",
      "  return pytables.to_hdf(path_or_buf, key, self, **kwargs)\n"
     ]
    }
   ],
   "source": [
    "res = oma.pascal.pascal.objects_to_FRCNN(objects, \"data/frcnn_df.h5\", 0.2)"
   ]
  },
  {
   "cell_type": "code",
   "execution_count": 8,
   "metadata": {},
   "outputs": [
    {
     "data": {
      "text/html": [
       "<div>\n",
       "<style scoped>\n",
       "    .dataframe tbody tr th:only-of-type {\n",
       "        vertical-align: middle;\n",
       "    }\n",
       "\n",
       "    .dataframe tbody tr th {\n",
       "        vertical-align: top;\n",
       "    }\n",
       "\n",
       "    .dataframe thead th {\n",
       "        text-align: right;\n",
       "    }\n",
       "</style>\n",
       "<table border=\"1\" class=\"dataframe\">\n",
       "  <thead>\n",
       "    <tr style=\"text-align: right;\">\n",
       "      <th></th>\n",
       "      <th>image_path</th>\n",
       "      <th>xmin</th>\n",
       "      <th>ymin</th>\n",
       "      <th>xmax</th>\n",
       "      <th>ymax</th>\n",
       "      <th>type</th>\n",
       "    </tr>\n",
       "    <tr>\n",
       "      <th>category</th>\n",
       "      <th></th>\n",
       "      <th></th>\n",
       "      <th></th>\n",
       "      <th></th>\n",
       "      <th></th>\n",
       "      <th></th>\n",
       "    </tr>\n",
       "  </thead>\n",
       "  <tbody>\n",
       "    <tr>\n",
       "      <th>\"</th>\n",
       "      <td>1</td>\n",
       "      <td>1</td>\n",
       "      <td>1</td>\n",
       "      <td>1</td>\n",
       "      <td>1</td>\n",
       "      <td>1</td>\n",
       "    </tr>\n",
       "    <tr>\n",
       "      <th>.</th>\n",
       "      <td>268</td>\n",
       "      <td>268</td>\n",
       "      <td>268</td>\n",
       "      <td>268</td>\n",
       "      <td>268</td>\n",
       "      <td>268</td>\n",
       "    </tr>\n",
       "    <tr>\n",
       "      <th>0</th>\n",
       "      <td>666</td>\n",
       "      <td>666</td>\n",
       "      <td>666</td>\n",
       "      <td>666</td>\n",
       "      <td>666</td>\n",
       "      <td>666</td>\n",
       "    </tr>\n",
       "    <tr>\n",
       "      <th>1</th>\n",
       "      <td>188</td>\n",
       "      <td>188</td>\n",
       "      <td>188</td>\n",
       "      <td>188</td>\n",
       "      <td>188</td>\n",
       "      <td>188</td>\n",
       "    </tr>\n",
       "    <tr>\n",
       "      <th>2</th>\n",
       "      <td>142</td>\n",
       "      <td>142</td>\n",
       "      <td>142</td>\n",
       "      <td>142</td>\n",
       "      <td>142</td>\n",
       "      <td>142</td>\n",
       "    </tr>\n",
       "    <tr>\n",
       "      <th>3</th>\n",
       "      <td>107</td>\n",
       "      <td>107</td>\n",
       "      <td>107</td>\n",
       "      <td>107</td>\n",
       "      <td>107</td>\n",
       "      <td>107</td>\n",
       "    </tr>\n",
       "    <tr>\n",
       "      <th>4</th>\n",
       "      <td>108</td>\n",
       "      <td>108</td>\n",
       "      <td>108</td>\n",
       "      <td>108</td>\n",
       "      <td>108</td>\n",
       "      <td>108</td>\n",
       "    </tr>\n",
       "    <tr>\n",
       "      <th>5</th>\n",
       "      <td>113</td>\n",
       "      <td>113</td>\n",
       "      <td>113</td>\n",
       "      <td>113</td>\n",
       "      <td>113</td>\n",
       "      <td>113</td>\n",
       "    </tr>\n",
       "    <tr>\n",
       "      <th>6</th>\n",
       "      <td>99</td>\n",
       "      <td>99</td>\n",
       "      <td>99</td>\n",
       "      <td>99</td>\n",
       "      <td>99</td>\n",
       "      <td>99</td>\n",
       "    </tr>\n",
       "    <tr>\n",
       "      <th>7</th>\n",
       "      <td>80</td>\n",
       "      <td>80</td>\n",
       "      <td>80</td>\n",
       "      <td>80</td>\n",
       "      <td>80</td>\n",
       "      <td>80</td>\n",
       "    </tr>\n",
       "    <tr>\n",
       "      <th>8</th>\n",
       "      <td>80</td>\n",
       "      <td>80</td>\n",
       "      <td>80</td>\n",
       "      <td>80</td>\n",
       "      <td>80</td>\n",
       "      <td>80</td>\n",
       "    </tr>\n",
       "    <tr>\n",
       "      <th>9</th>\n",
       "      <td>65</td>\n",
       "      <td>65</td>\n",
       "      <td>65</td>\n",
       "      <td>65</td>\n",
       "      <td>65</td>\n",
       "      <td>65</td>\n",
       "    </tr>\n",
       "  </tbody>\n",
       "</table>\n",
       "</div>"
      ],
      "text/plain": [
       "          image_path  xmin  ymin  xmax  ymax  type\n",
       "category                                          \n",
       "\"                  1     1     1     1     1     1\n",
       ".                268   268   268   268   268   268\n",
       "0                666   666   666   666   666   666\n",
       "1                188   188   188   188   188   188\n",
       "2                142   142   142   142   142   142\n",
       "3                107   107   107   107   107   107\n",
       "4                108   108   108   108   108   108\n",
       "5                113   113   113   113   113   113\n",
       "6                 99    99    99    99    99    99\n",
       "7                 80    80    80    80    80    80\n",
       "8                 80    80    80    80    80    80\n",
       "9                 65    65    65    65    65    65"
      ]
     },
     "execution_count": 8,
     "metadata": {},
     "output_type": "execute_result"
    }
   ],
   "source": [
    "res.groupby(\"category\").count()"
   ]
  },
  {
   "cell_type": "code",
   "execution_count": null,
   "metadata": {},
   "outputs": [],
   "source": []
  }
 ],
 "metadata": {
  "kernelspec": {
   "display_name": "Python 3",
   "language": "python",
   "name": "python3"
  },
  "language_info": {
   "codemirror_mode": {
    "name": "ipython",
    "version": 3
   },
   "file_extension": ".py",
   "mimetype": "text/x-python",
   "name": "python",
   "nbconvert_exporter": "python",
   "pygments_lexer": "ipython3",
   "version": "3.5.3"
  }
 },
 "nbformat": 4,
 "nbformat_minor": 2
}
