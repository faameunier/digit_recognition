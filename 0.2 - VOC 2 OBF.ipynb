{
 "cells": [
  {
   "cell_type": "code",
   "execution_count": 1,
   "metadata": {},
   "outputs": [
    {
     "data": {
      "text/plain": [
       "<module 'oma.pascal.pascal' from 'F:\\\\Projets\\\\ElevenC\\\\oma\\\\pascal\\\\pascal.py'>"
      ]
     },
     "execution_count": 1,
     "metadata": {},
     "output_type": "execute_result"
    }
   ],
   "source": [
    "import oma\n",
    "import pandas as pd\n",
    "\n",
    "from importlib import reload\n",
    "\n",
    "reload(oma.pascal)\n",
    "reload(oma.pascal.pascal)"
   ]
  },
  {
   "cell_type": "markdown",
   "metadata": {},
   "source": [
    "# Correct paths to relative paths"
   ]
  },
  {
   "cell_type": "code",
   "execution_count": 4,
   "metadata": {},
   "outputs": [
    {
     "name": "stderr",
     "output_type": "stream",
     "text": [
      "100%|█████████████████████████████████████████████████████████████████████████████████████████████████████████████████████████████████████████████████████████████████████████████████████████████████████| 371/371 [00:00<00:00, 659.64it/s]\n"
     ]
    }
   ],
   "source": [
    "oma.pascal.pascal.correct_all_paths('Datasets/labels/', 'Datasets/img/')"
   ]
  },
  {
   "cell_type": "markdown",
   "metadata": {},
   "source": [
    "# Get all objects"
   ]
  },
  {
   "cell_type": "code",
   "execution_count": 5,
   "metadata": {},
   "outputs": [
    {
     "name": "stderr",
     "output_type": "stream",
     "text": [
      "100%|██████████████████████████████████████████████████████████████████████████████████████████████████████████████████████████████████████████████████████████████████████████████████████████████████████| 371/371 [00:04<00:00, 91.34it/s]\n"
     ]
    }
   ],
   "source": [
    "objects = oma.pascal.pascal.get_all_objects('Datasets/labels/')"
   ]
  },
  {
   "cell_type": "code",
   "execution_count": 6,
   "metadata": {},
   "outputs": [
    {
     "data": {
      "text/plain": [
       "category\n",
       "\"      1\n",
       ".    268\n",
       "0    666\n",
       "1    188\n",
       "2    142\n",
       "3    107\n",
       "4    108\n",
       "5    113\n",
       "6     99\n",
       "7     80\n",
       "8     80\n",
       "9     65\n",
       "Name: category, dtype: int64"
      ]
     },
     "execution_count": 6,
     "metadata": {},
     "output_type": "execute_result"
    }
   ],
   "source": [
    "objects.groupby(\"category\")[\"category\"].count()"
   ]
  },
  {
   "cell_type": "code",
   "execution_count": 7,
   "metadata": {},
   "outputs": [
    {
     "data": {
      "text/html": [
       "<div>\n",
       "<style scoped>\n",
       "    .dataframe tbody tr th:only-of-type {\n",
       "        vertical-align: middle;\n",
       "    }\n",
       "\n",
       "    .dataframe tbody tr th {\n",
       "        vertical-align: top;\n",
       "    }\n",
       "\n",
       "    .dataframe thead th {\n",
       "        text-align: right;\n",
       "    }\n",
       "</style>\n",
       "<table border=\"1\" class=\"dataframe\">\n",
       "  <thead>\n",
       "    <tr style=\"text-align: right;\">\n",
       "      <th></th>\n",
       "      <th>image_path</th>\n",
       "      <th>name</th>\n",
       "      <th>category</th>\n",
       "      <th>object_n</th>\n",
       "      <th>xmin</th>\n",
       "      <th>xmax</th>\n",
       "      <th>ymin</th>\n",
       "      <th>ymax</th>\n",
       "    </tr>\n",
       "  </thead>\n",
       "  <tbody>\n",
       "    <tr>\n",
       "      <th>0</th>\n",
       "      <td>Datasets/img/003552c62aacc898154ff3e6458b4d37d...</td>\n",
       "      <td>003552c62aacc898154ff3e6458b4d37d93a19a8.jpg</td>\n",
       "      <td>5</td>\n",
       "      <td>0</td>\n",
       "      <td>310</td>\n",
       "      <td>610</td>\n",
       "      <td>266</td>\n",
       "      <td>784</td>\n",
       "    </tr>\n",
       "    <tr>\n",
       "      <th>1</th>\n",
       "      <td>Datasets/img/003552c62aacc898154ff3e6458b4d37d...</td>\n",
       "      <td>003552c62aacc898154ff3e6458b4d37d93a19a8.jpg</td>\n",
       "      <td>8</td>\n",
       "      <td>1</td>\n",
       "      <td>728</td>\n",
       "      <td>1046</td>\n",
       "      <td>284</td>\n",
       "      <td>784</td>\n",
       "    </tr>\n",
       "    <tr>\n",
       "      <th>2</th>\n",
       "      <td>Datasets/img/003552c62aacc898154ff3e6458b4d37d...</td>\n",
       "      <td>003552c62aacc898154ff3e6458b4d37d93a19a8.jpg</td>\n",
       "      <td>.</td>\n",
       "      <td>2</td>\n",
       "      <td>1037</td>\n",
       "      <td>1137</td>\n",
       "      <td>703</td>\n",
       "      <td>793</td>\n",
       "    </tr>\n",
       "    <tr>\n",
       "      <th>3</th>\n",
       "      <td>Datasets/img/003552c62aacc898154ff3e6458b4d37d...</td>\n",
       "      <td>003552c62aacc898154ff3e6458b4d37d93a19a8.jpg</td>\n",
       "      <td>0</td>\n",
       "      <td>3</td>\n",
       "      <td>1155</td>\n",
       "      <td>1483</td>\n",
       "      <td>293</td>\n",
       "      <td>793</td>\n",
       "    </tr>\n",
       "    <tr>\n",
       "      <th>4</th>\n",
       "      <td>Datasets/img/003552c62aacc898154ff3e6458b4d37d...</td>\n",
       "      <td>003552c62aacc898154ff3e6458b4d37d93a19a8.jpg</td>\n",
       "      <td>0</td>\n",
       "      <td>4</td>\n",
       "      <td>1555</td>\n",
       "      <td>1919</td>\n",
       "      <td>293</td>\n",
       "      <td>793</td>\n",
       "    </tr>\n",
       "  </tbody>\n",
       "</table>\n",
       "</div>"
      ],
      "text/plain": [
       "                                          image_path  \\\n",
       "0  Datasets/img/003552c62aacc898154ff3e6458b4d37d...   \n",
       "1  Datasets/img/003552c62aacc898154ff3e6458b4d37d...   \n",
       "2  Datasets/img/003552c62aacc898154ff3e6458b4d37d...   \n",
       "3  Datasets/img/003552c62aacc898154ff3e6458b4d37d...   \n",
       "4  Datasets/img/003552c62aacc898154ff3e6458b4d37d...   \n",
       "\n",
       "                                           name category object_n  xmin  xmax  \\\n",
       "0  003552c62aacc898154ff3e6458b4d37d93a19a8.jpg        5        0   310   610   \n",
       "1  003552c62aacc898154ff3e6458b4d37d93a19a8.jpg        8        1   728  1046   \n",
       "2  003552c62aacc898154ff3e6458b4d37d93a19a8.jpg        .        2  1037  1137   \n",
       "3  003552c62aacc898154ff3e6458b4d37d93a19a8.jpg        0        3  1155  1483   \n",
       "4  003552c62aacc898154ff3e6458b4d37d93a19a8.jpg        0        4  1555  1919   \n",
       "\n",
       "  ymin ymax  \n",
       "0  266  784  \n",
       "1  284  784  \n",
       "2  703  793  \n",
       "3  293  793  \n",
       "4  293  793  "
      ]
     },
     "execution_count": 7,
     "metadata": {},
     "output_type": "execute_result"
    }
   ],
   "source": [
    "objects.head()"
   ]
  },
  {
   "cell_type": "markdown",
   "metadata": {},
   "source": [
    "# Export to OBF format"
   ]
  },
  {
   "cell_type": "code",
   "execution_count": 14,
   "metadata": {},
   "outputs": [
    {
     "name": "stderr",
     "output_type": "stream",
     "text": [
      "100%|██████████| 7613/7613 [00:39<00:00, 192.34it/s]\n"
     ]
    }
   ],
   "source": [
    "oma.pascal.pascal.objects_to_OBF(objects, 'img/', 'data/item_db_loreal.h5')"
   ]
  },
  {
   "cell_type": "code",
   "execution_count": 8,
   "metadata": {},
   "outputs": [],
   "source": [
    "item_db = pd.read_hdf(\"data/item_db_loreal.h5\")"
   ]
  },
  {
   "cell_type": "code",
   "execution_count": 9,
   "metadata": {},
   "outputs": [
    {
     "data": {
      "text/html": [
       "<div>\n",
       "<style scoped>\n",
       "    .dataframe tbody tr th:only-of-type {\n",
       "        vertical-align: middle;\n",
       "    }\n",
       "\n",
       "    .dataframe tbody tr th {\n",
       "        vertical-align: top;\n",
       "    }\n",
       "\n",
       "    .dataframe thead th {\n",
       "        text-align: right;\n",
       "    }\n",
       "</style>\n",
       "<table border=\"1\" class=\"dataframe\">\n",
       "  <thead>\n",
       "    <tr style=\"text-align: right;\">\n",
       "      <th></th>\n",
       "      <th>sku</th>\n",
       "      <th>category</th>\n",
       "    </tr>\n",
       "  </thead>\n",
       "  <tbody>\n",
       "    <tr>\n",
       "      <th>0</th>\n",
       "      <td>10741205_6038329_78146908_320x50_Product0</td>\n",
       "      <td>maky</td>\n",
       "    </tr>\n",
       "    <tr>\n",
       "      <th>1</th>\n",
       "      <td>9519525_5280637_76002119_SKINCARE_320x500</td>\n",
       "      <td>skfc</td>\n",
       "    </tr>\n",
       "    <tr>\n",
       "      <th>2</th>\n",
       "      <td>21223394_6591677_101907462_POLO_BLUE_EDP_ULTRA...</td>\n",
       "      <td>fram</td>\n",
       "    </tr>\n",
       "    <tr>\n",
       "      <th>3</th>\n",
       "      <td>10148853_4913309_73167473_animation-leaderboar...</td>\n",
       "      <td>maky</td>\n",
       "    </tr>\n",
       "    <tr>\n",
       "      <th>4</th>\n",
       "      <td>20878106_5474827_99055786_index.html_150</td>\n",
       "      <td>skfc</td>\n",
       "    </tr>\n",
       "  </tbody>\n",
       "</table>\n",
       "</div>"
      ],
      "text/plain": [
       "                                                 sku category\n",
       "0          10741205_6038329_78146908_320x50_Product0     maky\n",
       "1          9519525_5280637_76002119_SKINCARE_320x500     skfc\n",
       "2  21223394_6591677_101907462_POLO_BLUE_EDP_ULTRA...     fram\n",
       "3  10148853_4913309_73167473_animation-leaderboar...     maky\n",
       "4           20878106_5474827_99055786_index.html_150     skfc"
      ]
     },
     "execution_count": 9,
     "metadata": {},
     "output_type": "execute_result"
    }
   ],
   "source": [
    "item_db.head()"
   ]
  },
  {
   "cell_type": "markdown",
   "metadata": {},
   "source": [
    "# Export to FRCNN format"
   ]
  },
  {
   "cell_type": "code",
   "execution_count": 9,
   "metadata": {},
   "outputs": [
    {
     "data": {
      "text/html": [
       "<div>\n",
       "<style scoped>\n",
       "    .dataframe tbody tr th:only-of-type {\n",
       "        vertical-align: middle;\n",
       "    }\n",
       "\n",
       "    .dataframe tbody tr th {\n",
       "        vertical-align: top;\n",
       "    }\n",
       "\n",
       "    .dataframe thead th {\n",
       "        text-align: right;\n",
       "    }\n",
       "</style>\n",
       "<table border=\"1\" class=\"dataframe\">\n",
       "  <thead>\n",
       "    <tr style=\"text-align: right;\">\n",
       "      <th></th>\n",
       "      <th>image_path</th>\n",
       "      <th>name</th>\n",
       "      <th>category</th>\n",
       "      <th>object_n</th>\n",
       "      <th>xmin</th>\n",
       "      <th>xmax</th>\n",
       "      <th>ymin</th>\n",
       "      <th>ymax</th>\n",
       "    </tr>\n",
       "  </thead>\n",
       "  <tbody>\n",
       "    <tr>\n",
       "      <th>0</th>\n",
       "      <td>Datasets/img/003552c62aacc898154ff3e6458b4d37d...</td>\n",
       "      <td>003552c62aacc898154ff3e6458b4d37d93a19a8.jpg</td>\n",
       "      <td>5</td>\n",
       "      <td>0</td>\n",
       "      <td>310</td>\n",
       "      <td>610</td>\n",
       "      <td>266</td>\n",
       "      <td>784</td>\n",
       "    </tr>\n",
       "    <tr>\n",
       "      <th>1</th>\n",
       "      <td>Datasets/img/003552c62aacc898154ff3e6458b4d37d...</td>\n",
       "      <td>003552c62aacc898154ff3e6458b4d37d93a19a8.jpg</td>\n",
       "      <td>8</td>\n",
       "      <td>1</td>\n",
       "      <td>728</td>\n",
       "      <td>1046</td>\n",
       "      <td>284</td>\n",
       "      <td>784</td>\n",
       "    </tr>\n",
       "    <tr>\n",
       "      <th>2</th>\n",
       "      <td>Datasets/img/003552c62aacc898154ff3e6458b4d37d...</td>\n",
       "      <td>003552c62aacc898154ff3e6458b4d37d93a19a8.jpg</td>\n",
       "      <td>.</td>\n",
       "      <td>2</td>\n",
       "      <td>1037</td>\n",
       "      <td>1137</td>\n",
       "      <td>703</td>\n",
       "      <td>793</td>\n",
       "    </tr>\n",
       "    <tr>\n",
       "      <th>3</th>\n",
       "      <td>Datasets/img/003552c62aacc898154ff3e6458b4d37d...</td>\n",
       "      <td>003552c62aacc898154ff3e6458b4d37d93a19a8.jpg</td>\n",
       "      <td>0</td>\n",
       "      <td>3</td>\n",
       "      <td>1155</td>\n",
       "      <td>1483</td>\n",
       "      <td>293</td>\n",
       "      <td>793</td>\n",
       "    </tr>\n",
       "    <tr>\n",
       "      <th>4</th>\n",
       "      <td>Datasets/img/003552c62aacc898154ff3e6458b4d37d...</td>\n",
       "      <td>003552c62aacc898154ff3e6458b4d37d93a19a8.jpg</td>\n",
       "      <td>0</td>\n",
       "      <td>4</td>\n",
       "      <td>1555</td>\n",
       "      <td>1919</td>\n",
       "      <td>293</td>\n",
       "      <td>793</td>\n",
       "    </tr>\n",
       "  </tbody>\n",
       "</table>\n",
       "</div>"
      ],
      "text/plain": [
       "                                          image_path  \\\n",
       "0  Datasets/img/003552c62aacc898154ff3e6458b4d37d...   \n",
       "1  Datasets/img/003552c62aacc898154ff3e6458b4d37d...   \n",
       "2  Datasets/img/003552c62aacc898154ff3e6458b4d37d...   \n",
       "3  Datasets/img/003552c62aacc898154ff3e6458b4d37d...   \n",
       "4  Datasets/img/003552c62aacc898154ff3e6458b4d37d...   \n",
       "\n",
       "                                           name category object_n  xmin  xmax  \\\n",
       "0  003552c62aacc898154ff3e6458b4d37d93a19a8.jpg        5        0   310   610   \n",
       "1  003552c62aacc898154ff3e6458b4d37d93a19a8.jpg        8        1   728  1046   \n",
       "2  003552c62aacc898154ff3e6458b4d37d93a19a8.jpg        .        2  1037  1137   \n",
       "3  003552c62aacc898154ff3e6458b4d37d93a19a8.jpg        0        3  1155  1483   \n",
       "4  003552c62aacc898154ff3e6458b4d37d93a19a8.jpg        0        4  1555  1919   \n",
       "\n",
       "  ymin ymax  \n",
       "0  266  784  \n",
       "1  284  784  \n",
       "2  703  793  \n",
       "3  293  793  \n",
       "4  293  793  "
      ]
     },
     "execution_count": 9,
     "metadata": {},
     "output_type": "execute_result"
    }
   ],
   "source": [
    "objects.head()"
   ]
  },
  {
   "cell_type": "code",
   "execution_count": 10,
   "metadata": {},
   "outputs": [
    {
     "name": "stderr",
     "output_type": "stream",
     "text": [
      "f:\\projets\\projet-loreal-oma\\.venv\\lib\\site-packages\\pandas\\core\\generic.py:1996: PerformanceWarning: \n",
      "your performance may suffer as PyTables will pickle object types that it cannot\n",
      "map directly to c-types [inferred_type->mixed-integer,key->block0_values] [items->['image_path', 'xmin', 'ymin', 'xmax', 'ymax', 'category', 'type']]\n",
      "\n",
      "  return pytables.to_hdf(path_or_buf, key, self, **kwargs)\n"
     ]
    }
   ],
   "source": [
    "res = oma.pascal.pascal.objects_to_FRCNN(objects, \"data/frcnn_df.h5\", 0.2)"
   ]
  },
  {
   "cell_type": "code",
   "execution_count": 11,
   "metadata": {},
   "outputs": [
    {
     "data": {
      "text/html": [
       "<div>\n",
       "<style scoped>\n",
       "    .dataframe tbody tr th:only-of-type {\n",
       "        vertical-align: middle;\n",
       "    }\n",
       "\n",
       "    .dataframe tbody tr th {\n",
       "        vertical-align: top;\n",
       "    }\n",
       "\n",
       "    .dataframe thead th {\n",
       "        text-align: right;\n",
       "    }\n",
       "</style>\n",
       "<table border=\"1\" class=\"dataframe\">\n",
       "  <thead>\n",
       "    <tr style=\"text-align: right;\">\n",
       "      <th></th>\n",
       "      <th>image_path</th>\n",
       "      <th>xmin</th>\n",
       "      <th>ymin</th>\n",
       "      <th>xmax</th>\n",
       "      <th>ymax</th>\n",
       "      <th>type</th>\n",
       "    </tr>\n",
       "    <tr>\n",
       "      <th>category</th>\n",
       "      <th></th>\n",
       "      <th></th>\n",
       "      <th></th>\n",
       "      <th></th>\n",
       "      <th></th>\n",
       "      <th></th>\n",
       "    </tr>\n",
       "  </thead>\n",
       "  <tbody>\n",
       "    <tr>\n",
       "      <th>\"</th>\n",
       "      <td>1</td>\n",
       "      <td>1</td>\n",
       "      <td>1</td>\n",
       "      <td>1</td>\n",
       "      <td>1</td>\n",
       "      <td>1</td>\n",
       "    </tr>\n",
       "    <tr>\n",
       "      <th>.</th>\n",
       "      <td>268</td>\n",
       "      <td>268</td>\n",
       "      <td>268</td>\n",
       "      <td>268</td>\n",
       "      <td>268</td>\n",
       "      <td>268</td>\n",
       "    </tr>\n",
       "    <tr>\n",
       "      <th>0</th>\n",
       "      <td>666</td>\n",
       "      <td>666</td>\n",
       "      <td>666</td>\n",
       "      <td>666</td>\n",
       "      <td>666</td>\n",
       "      <td>666</td>\n",
       "    </tr>\n",
       "    <tr>\n",
       "      <th>1</th>\n",
       "      <td>188</td>\n",
       "      <td>188</td>\n",
       "      <td>188</td>\n",
       "      <td>188</td>\n",
       "      <td>188</td>\n",
       "      <td>188</td>\n",
       "    </tr>\n",
       "    <tr>\n",
       "      <th>2</th>\n",
       "      <td>142</td>\n",
       "      <td>142</td>\n",
       "      <td>142</td>\n",
       "      <td>142</td>\n",
       "      <td>142</td>\n",
       "      <td>142</td>\n",
       "    </tr>\n",
       "    <tr>\n",
       "      <th>3</th>\n",
       "      <td>107</td>\n",
       "      <td>107</td>\n",
       "      <td>107</td>\n",
       "      <td>107</td>\n",
       "      <td>107</td>\n",
       "      <td>107</td>\n",
       "    </tr>\n",
       "    <tr>\n",
       "      <th>4</th>\n",
       "      <td>108</td>\n",
       "      <td>108</td>\n",
       "      <td>108</td>\n",
       "      <td>108</td>\n",
       "      <td>108</td>\n",
       "      <td>108</td>\n",
       "    </tr>\n",
       "    <tr>\n",
       "      <th>5</th>\n",
       "      <td>113</td>\n",
       "      <td>113</td>\n",
       "      <td>113</td>\n",
       "      <td>113</td>\n",
       "      <td>113</td>\n",
       "      <td>113</td>\n",
       "    </tr>\n",
       "    <tr>\n",
       "      <th>6</th>\n",
       "      <td>99</td>\n",
       "      <td>99</td>\n",
       "      <td>99</td>\n",
       "      <td>99</td>\n",
       "      <td>99</td>\n",
       "      <td>99</td>\n",
       "    </tr>\n",
       "    <tr>\n",
       "      <th>7</th>\n",
       "      <td>80</td>\n",
       "      <td>80</td>\n",
       "      <td>80</td>\n",
       "      <td>80</td>\n",
       "      <td>80</td>\n",
       "      <td>80</td>\n",
       "    </tr>\n",
       "    <tr>\n",
       "      <th>8</th>\n",
       "      <td>80</td>\n",
       "      <td>80</td>\n",
       "      <td>80</td>\n",
       "      <td>80</td>\n",
       "      <td>80</td>\n",
       "      <td>80</td>\n",
       "    </tr>\n",
       "    <tr>\n",
       "      <th>9</th>\n",
       "      <td>65</td>\n",
       "      <td>65</td>\n",
       "      <td>65</td>\n",
       "      <td>65</td>\n",
       "      <td>65</td>\n",
       "      <td>65</td>\n",
       "    </tr>\n",
       "  </tbody>\n",
       "</table>\n",
       "</div>"
      ],
      "text/plain": [
       "          image_path  xmin  ymin  xmax  ymax  type\n",
       "category                                          \n",
       "\"                  1     1     1     1     1     1\n",
       ".                268   268   268   268   268   268\n",
       "0                666   666   666   666   666   666\n",
       "1                188   188   188   188   188   188\n",
       "2                142   142   142   142   142   142\n",
       "3                107   107   107   107   107   107\n",
       "4                108   108   108   108   108   108\n",
       "5                113   113   113   113   113   113\n",
       "6                 99    99    99    99    99    99\n",
       "7                 80    80    80    80    80    80\n",
       "8                 80    80    80    80    80    80\n",
       "9                 65    65    65    65    65    65"
      ]
     },
     "execution_count": 11,
     "metadata": {},
     "output_type": "execute_result"
    }
   ],
   "source": [
    "res.groupby(\"category\").count()"
   ]
  }
 ],
 "metadata": {
  "kernelspec": {
   "display_name": "Python 3",
   "language": "python",
   "name": "python3"
  },
  "language_info": {
   "codemirror_mode": {
    "name": "ipython",
    "version": 3
   },
   "file_extension": ".py",
   "mimetype": "text/x-python",
   "name": "python",
   "nbconvert_exporter": "python",
   "pygments_lexer": "ipython3",
   "version": "3.6.1"
  }
 },
 "nbformat": 4,
 "nbformat_minor": 2
}
