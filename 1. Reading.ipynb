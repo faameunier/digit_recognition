{
 "cells": [
  {
   "cell_type": "code",
   "execution_count": 319,
   "metadata": {},
   "outputs": [],
   "source": [
    "import pickle\n",
    "import pandas as pd\n",
    "import numpy as np"
   ]
  },
  {
   "cell_type": "code",
   "execution_count": 320,
   "metadata": {},
   "outputs": [],
   "source": [
    "file = open(\"out.pickle\", \"rb\")\n",
    "test = pickle.load(file)"
   ]
  },
  {
   "cell_type": "code",
   "execution_count": 321,
   "metadata": {},
   "outputs": [],
   "source": [
    "threshold = 0.55"
   ]
  },
  {
   "cell_type": "code",
   "execution_count": 322,
   "metadata": {},
   "outputs": [],
   "source": [
    "keep = []\n",
    "for box in test:\n",
    "    if box[\"score\"] >= threshold:\n",
    "        box[\"x1\"] = box[\"bbox\"][0]\n",
    "        box[\"y1\"] = box[\"bbox\"][1]\n",
    "        box[\"x2\"] = box[\"bbox\"][2]\n",
    "        box[\"y2\"] = box[\"bbox\"][3]\n",
    "        del box[\"category_id\"]\n",
    "        del box[\"bbox\"]\n",
    "        keep.append(box)"
   ]
  },
  {
   "cell_type": "code",
   "execution_count": 323,
   "metadata": {},
   "outputs": [],
   "source": [
    "df = pd.DataFrame(keep)"
   ]
  },
  {
   "cell_type": "code",
   "execution_count": 324,
   "metadata": {},
   "outputs": [
    {
     "data": {
      "text/plain": [
       "category     object\n",
       "image_id     object\n",
       "score       float64\n",
       "x1          float64\n",
       "x2          float64\n",
       "y1          float64\n",
       "y2          float64\n",
       "dtype: object"
      ]
     },
     "execution_count": 324,
     "metadata": {},
     "output_type": "execute_result"
    }
   ],
   "source": [
    "df.dtypes"
   ]
  },
  {
   "cell_type": "code",
   "execution_count": 325,
   "metadata": {},
   "outputs": [
    {
     "data": {
      "text/html": [
       "<div>\n",
       "<style scoped>\n",
       "    .dataframe tbody tr th:only-of-type {\n",
       "        vertical-align: middle;\n",
       "    }\n",
       "\n",
       "    .dataframe tbody tr th {\n",
       "        vertical-align: top;\n",
       "    }\n",
       "\n",
       "    .dataframe thead th {\n",
       "        text-align: right;\n",
       "    }\n",
       "</style>\n",
       "<table border=\"1\" class=\"dataframe\">\n",
       "  <thead>\n",
       "    <tr style=\"text-align: right;\">\n",
       "      <th></th>\n",
       "      <th>image</th>\n",
       "      <th>used_liters_predict</th>\n",
       "    </tr>\n",
       "  </thead>\n",
       "  <tbody>\n",
       "    <tr>\n",
       "      <th>0</th>\n",
       "      <td>Datasets/img/005fc43f13dfef916914b17ef7ec7deb9...</td>\n",
       "      <td>376.01</td>\n",
       "    </tr>\n",
       "    <tr>\n",
       "      <th>1</th>\n",
       "      <td>Datasets/img/00e22973fdbc19f1f703cdbd05a860670...</td>\n",
       "      <td>230.00</td>\n",
       "    </tr>\n",
       "    <tr>\n",
       "      <th>2</th>\n",
       "      <td>Datasets/img/0122de9a0c734ad199c00b352cc3b1272...</td>\n",
       "      <td>25.42</td>\n",
       "    </tr>\n",
       "    <tr>\n",
       "      <th>3</th>\n",
       "      <td>Datasets/img/0133c36547f01438b1803e928af3719f1...</td>\n",
       "      <td>50.00</td>\n",
       "    </tr>\n",
       "    <tr>\n",
       "      <th>4</th>\n",
       "      <td>Datasets/img/015538fa03041bcfdbb196e8eec8a0211...</td>\n",
       "      <td>136.00</td>\n",
       "    </tr>\n",
       "  </tbody>\n",
       "</table>\n",
       "</div>"
      ],
      "text/plain": [
       "                                               image  used_liters_predict\n",
       "0  Datasets/img/005fc43f13dfef916914b17ef7ec7deb9...               376.01\n",
       "1  Datasets/img/00e22973fdbc19f1f703cdbd05a860670...               230.00\n",
       "2  Datasets/img/0122de9a0c734ad199c00b352cc3b1272...                25.42\n",
       "3  Datasets/img/0133c36547f01438b1803e928af3719f1...                50.00\n",
       "4  Datasets/img/015538fa03041bcfdbb196e8eec8a0211...               136.00"
      ]
     },
     "execution_count": 325,
     "metadata": {},
     "output_type": "execute_result"
    }
   ],
   "source": [
    "def get_number(df):\n",
    "    df = df.sort_values(by=[\"x1\"])\n",
    "    score = \"\"\n",
    "    for index, row in df.iterrows():\n",
    "        score += str(row[\"category\"])\n",
    "    k = 0\n",
    "    # print(score)\n",
    "    while k < len(score) - 1 :\n",
    "        try:\n",
    "            if score[k] == \".\" and score[k + 1] == \".\":\n",
    "                score = score[:k] + score[k + 1:]\n",
    "                k -= 1\n",
    "        except Exception as e:\n",
    "            print(score, k)\n",
    "            raise e \n",
    "        k += 1\n",
    "    return float(score)\n",
    "\n",
    "scores = df.groupby(\"image_id\").apply(get_number)\n",
    "scores = scores.reset_index()\n",
    "scores.columns = [\"image\", \"used_liters_predict\"]\n",
    "scores.head()"
   ]
  },
  {
   "cell_type": "code",
   "execution_count": 326,
   "metadata": {},
   "outputs": [
    {
     "data": {
      "text/html": [
       "<div>\n",
       "<style scoped>\n",
       "    .dataframe tbody tr th:only-of-type {\n",
       "        vertical-align: middle;\n",
       "    }\n",
       "\n",
       "    .dataframe tbody tr th {\n",
       "        vertical-align: top;\n",
       "    }\n",
       "\n",
       "    .dataframe thead th {\n",
       "        text-align: right;\n",
       "    }\n",
       "</style>\n",
       "<table border=\"1\" class=\"dataframe\">\n",
       "  <thead>\n",
       "    <tr style=\"text-align: right;\">\n",
       "      <th></th>\n",
       "      <th>image</th>\n",
       "      <th>used_liters_predict</th>\n",
       "    </tr>\n",
       "  </thead>\n",
       "  <tbody>\n",
       "    <tr>\n",
       "      <th>0</th>\n",
       "      <td>005fc43f13dfef916914b17ef7ec7deb932bb33b.jpg</td>\n",
       "      <td>376.01</td>\n",
       "    </tr>\n",
       "    <tr>\n",
       "      <th>1</th>\n",
       "      <td>00e22973fdbc19f1f703cdbd05a8606705bc60d1.jpg</td>\n",
       "      <td>230.00</td>\n",
       "    </tr>\n",
       "    <tr>\n",
       "      <th>2</th>\n",
       "      <td>0122de9a0c734ad199c00b352cc3b12729238b44.jpg</td>\n",
       "      <td>25.42</td>\n",
       "    </tr>\n",
       "    <tr>\n",
       "      <th>3</th>\n",
       "      <td>0133c36547f01438b1803e928af3719f13c95487.jpg</td>\n",
       "      <td>50.00</td>\n",
       "    </tr>\n",
       "    <tr>\n",
       "      <th>4</th>\n",
       "      <td>015538fa03041bcfdbb196e8eec8a0211e52201d.jpg</td>\n",
       "      <td>136.00</td>\n",
       "    </tr>\n",
       "  </tbody>\n",
       "</table>\n",
       "</div>"
      ],
      "text/plain": [
       "                                          image  used_liters_predict\n",
       "0  005fc43f13dfef916914b17ef7ec7deb932bb33b.jpg               376.01\n",
       "1  00e22973fdbc19f1f703cdbd05a8606705bc60d1.jpg               230.00\n",
       "2  0122de9a0c734ad199c00b352cc3b12729238b44.jpg                25.42\n",
       "3  0133c36547f01438b1803e928af3719f13c95487.jpg                50.00\n",
       "4  015538fa03041bcfdbb196e8eec8a0211e52201d.jpg               136.00"
      ]
     },
     "execution_count": 326,
     "metadata": {},
     "output_type": "execute_result"
    }
   ],
   "source": [
    "path_useless = \"Datasets/img/\"\n",
    "scores[\"image\"] = scores.image.str[len(path_useless):]\n",
    "scores.head()"
   ]
  },
  {
   "cell_type": "code",
   "execution_count": 327,
   "metadata": {},
   "outputs": [],
   "source": [
    "hq_dig = pd.read_csv(\"Datasets/HQ_quality.csv\", sep=\";\", index_col=0)\n",
    "hq_ana = pd.read_csv(\"Datasets/HQ_analog.csv\", sep=\";\", index_col=0)\n",
    "lq_dig = pd.read_csv(\"Datasets/LQ_digital.csv\", sep=\";\", index_col=0)\n",
    "lq_ana = pd.read_csv(\"Datasets/LQ_analog.csv\", sep=\";\", index_col=0)\n",
    "mq_dig = pd.read_csv(\"Datasets/MQ_digital.csv\", sep=\";\", index_col=0)\n",
    "\n",
    "hq_dig[\"q\"] = \"HD\"\n",
    "hq_ana[\"q\"] = \"HA\"\n",
    "lq_dig[\"q\"] = \"LD\"\n",
    "lq_ana[\"q\"] = \"LA\"\n",
    "mq_dig[\"q\"] = \"MD\"\n",
    "ground_truth = pd.concat((hq_dig, hq_ana, lq_dig, lq_ana, mq_dig))"
   ]
  },
  {
   "cell_type": "code",
   "execution_count": 328,
   "metadata": {},
   "outputs": [
    {
     "data": {
      "text/html": [
       "<div>\n",
       "<style scoped>\n",
       "    .dataframe tbody tr th:only-of-type {\n",
       "        vertical-align: middle;\n",
       "    }\n",
       "\n",
       "    .dataframe tbody tr th {\n",
       "        vertical-align: top;\n",
       "    }\n",
       "\n",
       "    .dataframe thead th {\n",
       "        text-align: right;\n",
       "    }\n",
       "</style>\n",
       "<table border=\"1\" class=\"dataframe\">\n",
       "  <thead>\n",
       "    <tr style=\"text-align: right;\">\n",
       "      <th></th>\n",
       "      <th>used_liter</th>\n",
       "      <th>image</th>\n",
       "      <th>q</th>\n",
       "    </tr>\n",
       "  </thead>\n",
       "  <tbody>\n",
       "    <tr>\n",
       "      <th>0</th>\n",
       "      <td>33</td>\n",
       "      <td>e104664ba1792dde641d87cd5d95f1df06786140.jpg</td>\n",
       "      <td>HD</td>\n",
       "    </tr>\n",
       "    <tr>\n",
       "      <th>1</th>\n",
       "      <td>29</td>\n",
       "      <td>48990b5cbe173868040bd33f06fb1b80c2b4f28a.jpg</td>\n",
       "      <td>HD</td>\n",
       "    </tr>\n",
       "    <tr>\n",
       "      <th>2</th>\n",
       "      <td>230</td>\n",
       "      <td>9e111802446b62b86aeffe911415ad28227caba7.jpg</td>\n",
       "      <td>HD</td>\n",
       "    </tr>\n",
       "    <tr>\n",
       "      <th>3</th>\n",
       "      <td>43</td>\n",
       "      <td>f78fe5a461f28bc770a7dd856878bb4a314a9027.jpg</td>\n",
       "      <td>HD</td>\n",
       "    </tr>\n",
       "    <tr>\n",
       "      <th>4</th>\n",
       "      <td>51</td>\n",
       "      <td>62e96bf40409b3b6fd74065ab0bf3ec44f9d0a61.jpg</td>\n",
       "      <td>HD</td>\n",
       "    </tr>\n",
       "  </tbody>\n",
       "</table>\n",
       "</div>"
      ],
      "text/plain": [
       "   used_liter                                         image   q\n",
       "0          33  e104664ba1792dde641d87cd5d95f1df06786140.jpg  HD\n",
       "1          29  48990b5cbe173868040bd33f06fb1b80c2b4f28a.jpg  HD\n",
       "2         230  9e111802446b62b86aeffe911415ad28227caba7.jpg  HD\n",
       "3          43  f78fe5a461f28bc770a7dd856878bb4a314a9027.jpg  HD\n",
       "4          51  62e96bf40409b3b6fd74065ab0bf3ec44f9d0a61.jpg  HD"
      ]
     },
     "execution_count": 328,
     "metadata": {},
     "output_type": "execute_result"
    }
   ],
   "source": [
    "ground_truth.head()"
   ]
  },
  {
   "cell_type": "code",
   "execution_count": 329,
   "metadata": {},
   "outputs": [],
   "source": [
    "final = scores.merge(ground_truth, on=\"image\")"
   ]
  },
  {
   "cell_type": "code",
   "execution_count": 330,
   "metadata": {},
   "outputs": [
    {
     "data": {
      "text/html": [
       "<div>\n",
       "<style scoped>\n",
       "    .dataframe tbody tr th:only-of-type {\n",
       "        vertical-align: middle;\n",
       "    }\n",
       "\n",
       "    .dataframe tbody tr th {\n",
       "        vertical-align: top;\n",
       "    }\n",
       "\n",
       "    .dataframe thead th {\n",
       "        text-align: right;\n",
       "    }\n",
       "</style>\n",
       "<table border=\"1\" class=\"dataframe\">\n",
       "  <thead>\n",
       "    <tr style=\"text-align: right;\">\n",
       "      <th></th>\n",
       "      <th>image</th>\n",
       "      <th>used_liters_predict</th>\n",
       "      <th>used_liter</th>\n",
       "      <th>q</th>\n",
       "    </tr>\n",
       "  </thead>\n",
       "  <tbody>\n",
       "    <tr>\n",
       "      <th>0</th>\n",
       "      <td>005fc43f13dfef916914b17ef7ec7deb932bb33b.jpg</td>\n",
       "      <td>376.01</td>\n",
       "      <td>376</td>\n",
       "      <td>MD</td>\n",
       "    </tr>\n",
       "    <tr>\n",
       "      <th>1</th>\n",
       "      <td>00e22973fdbc19f1f703cdbd05a8606705bc60d1.jpg</td>\n",
       "      <td>230.00</td>\n",
       "      <td>230</td>\n",
       "      <td>MD</td>\n",
       "    </tr>\n",
       "    <tr>\n",
       "      <th>2</th>\n",
       "      <td>0122de9a0c734ad199c00b352cc3b12729238b44.jpg</td>\n",
       "      <td>25.42</td>\n",
       "      <td>25</td>\n",
       "      <td>MD</td>\n",
       "    </tr>\n",
       "    <tr>\n",
       "      <th>3</th>\n",
       "      <td>0133c36547f01438b1803e928af3719f13c95487.jpg</td>\n",
       "      <td>50.00</td>\n",
       "      <td>50</td>\n",
       "      <td>MD</td>\n",
       "    </tr>\n",
       "    <tr>\n",
       "      <th>4</th>\n",
       "      <td>015538fa03041bcfdbb196e8eec8a0211e52201d.jpg</td>\n",
       "      <td>136.00</td>\n",
       "      <td>136</td>\n",
       "      <td>MD</td>\n",
       "    </tr>\n",
       "  </tbody>\n",
       "</table>\n",
       "</div>"
      ],
      "text/plain": [
       "                                          image  used_liters_predict  \\\n",
       "0  005fc43f13dfef916914b17ef7ec7deb932bb33b.jpg               376.01   \n",
       "1  00e22973fdbc19f1f703cdbd05a8606705bc60d1.jpg               230.00   \n",
       "2  0122de9a0c734ad199c00b352cc3b12729238b44.jpg                25.42   \n",
       "3  0133c36547f01438b1803e928af3719f13c95487.jpg                50.00   \n",
       "4  015538fa03041bcfdbb196e8eec8a0211e52201d.jpg               136.00   \n",
       "\n",
       "   used_liter   q  \n",
       "0         376  MD  \n",
       "1         230  MD  \n",
       "2          25  MD  \n",
       "3          50  MD  \n",
       "4         136  MD  "
      ]
     },
     "execution_count": 330,
     "metadata": {},
     "output_type": "execute_result"
    }
   ],
   "source": [
    "final.head()"
   ]
  },
  {
   "cell_type": "code",
   "execution_count": 331,
   "metadata": {},
   "outputs": [],
   "source": [
    "final[\"correct\"] = np.abs(final[\"used_liters_predict\"] - final[\"used_liter\"])"
   ]
  },
  {
   "cell_type": "code",
   "execution_count": 332,
   "metadata": {},
   "outputs": [],
   "source": [
    "final[\"bool\"] = final[\"correct\"] <= 1"
   ]
  },
  {
   "cell_type": "code",
   "execution_count": 333,
   "metadata": {},
   "outputs": [],
   "source": [
    "gb = final.groupby(\"q\")\n",
    "total = gb[\"bool\"].count()"
   ]
  },
  {
   "cell_type": "code",
   "execution_count": 334,
   "metadata": {},
   "outputs": [],
   "source": [
    "gb2 = final[final[\"bool\"] == True].groupby(\"q\")\n",
    "total2 = gb2[\"bool\"].count()"
   ]
  },
  {
   "cell_type": "code",
   "execution_count": 335,
   "metadata": {},
   "outputs": [
    {
     "data": {
      "text/plain": [
       "q\n",
       "HA    0.507463\n",
       "HD    0.895833\n",
       "MD    0.963636\n",
       "Name: bool, dtype: float64"
      ]
     },
     "execution_count": 335,
     "metadata": {},
     "output_type": "execute_result"
    }
   ],
   "source": [
    "total2/total"
   ]
  },
  {
   "cell_type": "code",
   "execution_count": null,
   "metadata": {},
   "outputs": [],
   "source": []
  }
 ],
 "metadata": {
  "kernelspec": {
   "display_name": "Python 3",
   "language": "python",
   "name": "python3"
  },
  "language_info": {
   "codemirror_mode": {
    "name": "ipython",
    "version": 3
   },
   "file_extension": ".py",
   "mimetype": "text/x-python",
   "name": "python",
   "nbconvert_exporter": "python",
   "pygments_lexer": "ipython3",
   "version": "3.6.1"
  }
 },
 "nbformat": 4,
 "nbformat_minor": 2
}
