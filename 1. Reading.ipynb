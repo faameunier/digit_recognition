{
 "cells": [
  {
   "cell_type": "code",
   "execution_count": 361,
   "metadata": {},
   "outputs": [],
   "source": [
    "import pickle\n",
    "import pandas as pd\n",
    "import numpy as np\n",
    "\n",
    "import matplotlib.pyplot as plt"
   ]
  },
  {
   "cell_type": "code",
   "execution_count": 362,
   "metadata": {},
   "outputs": [],
   "source": [
    "file = open(\"out.pickle\", \"rb\")\n",
    "test = pickle.load(file)"
   ]
  },
  {
   "cell_type": "code",
   "execution_count": 363,
   "metadata": {},
   "outputs": [],
   "source": [
    "threshold = 0.7"
   ]
  },
  {
   "cell_type": "code",
   "execution_count": 364,
   "metadata": {},
   "outputs": [],
   "source": [
    "keep = []\n",
    "for box in test:\n",
    "    if box[\"score\"] >= threshold:\n",
    "        box[\"x1\"] = box[\"bbox\"][0]\n",
    "        box[\"y1\"] = box[\"bbox\"][1]\n",
    "        box[\"x2\"] = box[\"bbox\"][2]\n",
    "        box[\"y2\"] = box[\"bbox\"][3]\n",
    "        del box[\"category_id\"]\n",
    "        del box[\"bbox\"]\n",
    "        keep.append(box)"
   ]
  },
  {
   "cell_type": "code",
   "execution_count": 365,
   "metadata": {},
   "outputs": [],
   "source": [
    "df = pd.DataFrame(keep)"
   ]
  },
  {
   "cell_type": "code",
   "execution_count": 366,
   "metadata": {},
   "outputs": [
    {
     "data": {
      "text/html": [
       "<div>\n",
       "<style scoped>\n",
       "    .dataframe tbody tr th:only-of-type {\n",
       "        vertical-align: middle;\n",
       "    }\n",
       "\n",
       "    .dataframe tbody tr th {\n",
       "        vertical-align: top;\n",
       "    }\n",
       "\n",
       "    .dataframe thead th {\n",
       "        text-align: right;\n",
       "    }\n",
       "</style>\n",
       "<table border=\"1\" class=\"dataframe\">\n",
       "  <thead>\n",
       "    <tr style=\"text-align: right;\">\n",
       "      <th></th>\n",
       "      <th>category</th>\n",
       "      <th>image_id</th>\n",
       "      <th>score</th>\n",
       "      <th>x1</th>\n",
       "      <th>x2</th>\n",
       "      <th>y1</th>\n",
       "      <th>y2</th>\n",
       "    </tr>\n",
       "  </thead>\n",
       "  <tbody>\n",
       "    <tr>\n",
       "      <th>663</th>\n",
       "      <td>0</td>\n",
       "      <td>Datasets/img/00c02d63e6f972a84cde9501027f80de8...</td>\n",
       "      <td>0.9983</td>\n",
       "      <td>3.8267</td>\n",
       "      <td>179.6475</td>\n",
       "      <td>654.2731</td>\n",
       "      <td>925.9178</td>\n",
       "    </tr>\n",
       "    <tr>\n",
       "      <th>664</th>\n",
       "      <td>0</td>\n",
       "      <td>Datasets/img/00c02d63e6f972a84cde9501027f80de8...</td>\n",
       "      <td>0.9965</td>\n",
       "      <td>407.4856</td>\n",
       "      <td>599.1133</td>\n",
       "      <td>672.2417</td>\n",
       "      <td>921.3408</td>\n",
       "    </tr>\n",
       "    <tr>\n",
       "      <th>665</th>\n",
       "      <td>8</td>\n",
       "      <td>Datasets/img/00c02d63e6f972a84cde9501027f80de8...</td>\n",
       "      <td>0.9950</td>\n",
       "      <td>1523.6443</td>\n",
       "      <td>1670.6987</td>\n",
       "      <td>576.6973</td>\n",
       "      <td>802.2020</td>\n",
       "    </tr>\n",
       "    <tr>\n",
       "      <th>666</th>\n",
       "      <td>9</td>\n",
       "      <td>Datasets/img/00c02d63e6f972a84cde9501027f80de8...</td>\n",
       "      <td>0.9904</td>\n",
       "      <td>817.1712</td>\n",
       "      <td>966.5369</td>\n",
       "      <td>640.4652</td>\n",
       "      <td>904.4434</td>\n",
       "    </tr>\n",
       "    <tr>\n",
       "      <th>667</th>\n",
       "      <td>5</td>\n",
       "      <td>Datasets/img/00c02d63e6f972a84cde9501027f80de8...</td>\n",
       "      <td>0.9764</td>\n",
       "      <td>1175.8069</td>\n",
       "      <td>1344.2170</td>\n",
       "      <td>637.8030</td>\n",
       "      <td>904.8793</td>\n",
       "    </tr>\n",
       "    <tr>\n",
       "      <th>668</th>\n",
       "      <td>7</td>\n",
       "      <td>Datasets/img/00c02d63e6f972a84cde9501027f80de8...</td>\n",
       "      <td>0.9743</td>\n",
       "      <td>1531.4900</td>\n",
       "      <td>1680.1084</td>\n",
       "      <td>825.3096</td>\n",
       "      <td>985.1182</td>\n",
       "    </tr>\n",
       "  </tbody>\n",
       "</table>\n",
       "</div>"
      ],
      "text/plain": [
       "    category                                           image_id   score  \\\n",
       "663        0  Datasets/img/00c02d63e6f972a84cde9501027f80de8...  0.9983   \n",
       "664        0  Datasets/img/00c02d63e6f972a84cde9501027f80de8...  0.9965   \n",
       "665        8  Datasets/img/00c02d63e6f972a84cde9501027f80de8...  0.9950   \n",
       "666        9  Datasets/img/00c02d63e6f972a84cde9501027f80de8...  0.9904   \n",
       "667        5  Datasets/img/00c02d63e6f972a84cde9501027f80de8...  0.9764   \n",
       "668        7  Datasets/img/00c02d63e6f972a84cde9501027f80de8...  0.9743   \n",
       "\n",
       "            x1         x2        y1        y2  \n",
       "663     3.8267   179.6475  654.2731  925.9178  \n",
       "664   407.4856   599.1133  672.2417  921.3408  \n",
       "665  1523.6443  1670.6987  576.6973  802.2020  \n",
       "666   817.1712   966.5369  640.4652  904.4434  \n",
       "667  1175.8069  1344.2170  637.8030  904.8793  \n",
       "668  1531.4900  1680.1084  825.3096  985.1182  "
      ]
     },
     "execution_count": 366,
     "metadata": {},
     "output_type": "execute_result"
    }
   ],
   "source": [
    "df[df[\"image_id\"] == \"Datasets/img/\" + \"00c02d63e6f972a84cde9501027f80de854aeb9d.jpg\"]"
   ]
  },
  {
   "cell_type": "code",
   "execution_count": 367,
   "metadata": {},
   "outputs": [
    {
     "data": {
      "text/html": [
       "<div>\n",
       "<style scoped>\n",
       "    .dataframe tbody tr th:only-of-type {\n",
       "        vertical-align: middle;\n",
       "    }\n",
       "\n",
       "    .dataframe tbody tr th {\n",
       "        vertical-align: top;\n",
       "    }\n",
       "\n",
       "    .dataframe thead th {\n",
       "        text-align: right;\n",
       "    }\n",
       "</style>\n",
       "<table border=\"1\" class=\"dataframe\">\n",
       "  <thead>\n",
       "    <tr style=\"text-align: right;\">\n",
       "      <th></th>\n",
       "      <th>image</th>\n",
       "      <th>used_liters_predict</th>\n",
       "    </tr>\n",
       "  </thead>\n",
       "  <tbody>\n",
       "    <tr>\n",
       "      <th>0</th>\n",
       "      <td>Datasets/img/00201faada9ddb1eb44736b913ec0af23...</td>\n",
       "      <td>463.0</td>\n",
       "    </tr>\n",
       "    <tr>\n",
       "      <th>1</th>\n",
       "      <td>Datasets/img/0021b9d54ed9b15b961c3c946ec04d22f...</td>\n",
       "      <td>18022.0</td>\n",
       "    </tr>\n",
       "    <tr>\n",
       "      <th>2</th>\n",
       "      <td>Datasets/img/002cb910bea6ad00376f54f511e28b7fd...</td>\n",
       "      <td>126.0</td>\n",
       "    </tr>\n",
       "    <tr>\n",
       "      <th>3</th>\n",
       "      <td>Datasets/img/003aba708b58d1cdc4322b5f203096d65...</td>\n",
       "      <td>6.0</td>\n",
       "    </tr>\n",
       "    <tr>\n",
       "      <th>4</th>\n",
       "      <td>Datasets/img/003f850dd53366ca94bf48a6d47025d2e...</td>\n",
       "      <td>50.0</td>\n",
       "    </tr>\n",
       "  </tbody>\n",
       "</table>\n",
       "</div>"
      ],
      "text/plain": [
       "                                               image  used_liters_predict\n",
       "0  Datasets/img/00201faada9ddb1eb44736b913ec0af23...                463.0\n",
       "1  Datasets/img/0021b9d54ed9b15b961c3c946ec04d22f...              18022.0\n",
       "2  Datasets/img/002cb910bea6ad00376f54f511e28b7fd...                126.0\n",
       "3  Datasets/img/003aba708b58d1cdc4322b5f203096d65...                  6.0\n",
       "4  Datasets/img/003f850dd53366ca94bf48a6d47025d2e...                 50.0"
      ]
     },
     "execution_count": 367,
     "metadata": {},
     "output_type": "execute_result"
    }
   ],
   "source": [
    "def get_number(df):\n",
    "    df = df.sort_values(by=[\"x1\"])\n",
    "    score = \"\"\n",
    "    width = 0\n",
    "    last_x = -1000\n",
    "    for index, row in df.iterrows():\n",
    "        width = row[\"x2\"] - row[\"x1\"]\n",
    "        if row[\"category\"] != \".\":\n",
    "            if row[\"x1\"] - last_x >= width / 2:\n",
    "                score += str(row[\"category\"])\n",
    "        else:\n",
    "            score += str(row[\"category\"])\n",
    "        last_x = row[\"x1\"]\n",
    "        \n",
    "    k = 0\n",
    "    # print(score)\n",
    "    while k < len(score) - 1 :\n",
    "        try:\n",
    "            if score[k] == \".\" and score[k + 1] == \".\":\n",
    "                score = score[:k] + score[k + 1:]\n",
    "                k -= 1\n",
    "        except Exception as e:\n",
    "            print(score, k)\n",
    "            raise e \n",
    "        k += 1\n",
    "    return float(score)\n",
    "\n",
    "scores = df.groupby(\"image_id\").apply(get_number)\n",
    "scores = scores.reset_index()\n",
    "scores.columns = [\"image\", \"used_liters_predict\"]\n",
    "scores.head()"
   ]
  },
  {
   "cell_type": "code",
   "execution_count": 368,
   "metadata": {},
   "outputs": [
    {
     "data": {
      "text/html": [
       "<div>\n",
       "<style scoped>\n",
       "    .dataframe tbody tr th:only-of-type {\n",
       "        vertical-align: middle;\n",
       "    }\n",
       "\n",
       "    .dataframe tbody tr th {\n",
       "        vertical-align: top;\n",
       "    }\n",
       "\n",
       "    .dataframe thead th {\n",
       "        text-align: right;\n",
       "    }\n",
       "</style>\n",
       "<table border=\"1\" class=\"dataframe\">\n",
       "  <thead>\n",
       "    <tr style=\"text-align: right;\">\n",
       "      <th></th>\n",
       "      <th>image</th>\n",
       "      <th>used_liters_predict</th>\n",
       "    </tr>\n",
       "  </thead>\n",
       "  <tbody>\n",
       "    <tr>\n",
       "      <th>0</th>\n",
       "      <td>00201faada9ddb1eb44736b913ec0af2334a8753.jpg</td>\n",
       "      <td>463.0</td>\n",
       "    </tr>\n",
       "    <tr>\n",
       "      <th>1</th>\n",
       "      <td>0021b9d54ed9b15b961c3c946ec04d22fa4475d7.jpg</td>\n",
       "      <td>18022.0</td>\n",
       "    </tr>\n",
       "    <tr>\n",
       "      <th>2</th>\n",
       "      <td>002cb910bea6ad00376f54f511e28b7fd50ce22b.jpg</td>\n",
       "      <td>126.0</td>\n",
       "    </tr>\n",
       "    <tr>\n",
       "      <th>3</th>\n",
       "      <td>003aba708b58d1cdc4322b5f203096d65e3e51c4.jpg</td>\n",
       "      <td>6.0</td>\n",
       "    </tr>\n",
       "    <tr>\n",
       "      <th>4</th>\n",
       "      <td>003f850dd53366ca94bf48a6d47025d2e8241723.jpg</td>\n",
       "      <td>50.0</td>\n",
       "    </tr>\n",
       "  </tbody>\n",
       "</table>\n",
       "</div>"
      ],
      "text/plain": [
       "                                          image  used_liters_predict\n",
       "0  00201faada9ddb1eb44736b913ec0af2334a8753.jpg                463.0\n",
       "1  0021b9d54ed9b15b961c3c946ec04d22fa4475d7.jpg              18022.0\n",
       "2  002cb910bea6ad00376f54f511e28b7fd50ce22b.jpg                126.0\n",
       "3  003aba708b58d1cdc4322b5f203096d65e3e51c4.jpg                  6.0\n",
       "4  003f850dd53366ca94bf48a6d47025d2e8241723.jpg                 50.0"
      ]
     },
     "execution_count": 368,
     "metadata": {},
     "output_type": "execute_result"
    }
   ],
   "source": [
    "path_useless = \"Datasets/img/\"\n",
    "scores[\"image\"] = scores.image.str[len(path_useless):]\n",
    "scores.head()"
   ]
  },
  {
   "cell_type": "code",
   "execution_count": 369,
   "metadata": {},
   "outputs": [],
   "source": [
    "hq_dig = pd.read_csv(\"Datasets/HQ_quality.csv\", sep=\";\", index_col=0)\n",
    "hq_ana = pd.read_csv(\"Datasets/HQ_analog.csv\", sep=\";\", index_col=0)\n",
    "lq_dig = pd.read_csv(\"Datasets/LQ_digital.csv\", sep=\";\", index_col=0)\n",
    "lq_ana = pd.read_csv(\"Datasets/LQ_analog.csv\", sep=\";\", index_col=0)\n",
    "mq_dig = pd.read_csv(\"Datasets/MQ_digital.csv\", sep=\";\", index_col=0)\n",
    "\n",
    "hq_dig[\"q\"] = \"HD\"\n",
    "hq_ana[\"q\"] = \"HA\"\n",
    "lq_dig[\"q\"] = \"LD\"\n",
    "lq_ana[\"q\"] = \"LA\"\n",
    "mq_dig[\"q\"] = \"MD\"\n",
    "ground_truth = pd.concat((hq_dig, hq_ana, lq_dig, lq_ana, mq_dig))"
   ]
  },
  {
   "cell_type": "code",
   "execution_count": 370,
   "metadata": {},
   "outputs": [
    {
     "data": {
      "text/html": [
       "<div>\n",
       "<style scoped>\n",
       "    .dataframe tbody tr th:only-of-type {\n",
       "        vertical-align: middle;\n",
       "    }\n",
       "\n",
       "    .dataframe tbody tr th {\n",
       "        vertical-align: top;\n",
       "    }\n",
       "\n",
       "    .dataframe thead th {\n",
       "        text-align: right;\n",
       "    }\n",
       "</style>\n",
       "<table border=\"1\" class=\"dataframe\">\n",
       "  <thead>\n",
       "    <tr style=\"text-align: right;\">\n",
       "      <th></th>\n",
       "      <th>used_liter</th>\n",
       "      <th>image</th>\n",
       "      <th>q</th>\n",
       "    </tr>\n",
       "  </thead>\n",
       "  <tbody>\n",
       "    <tr>\n",
       "      <th>0</th>\n",
       "      <td>33</td>\n",
       "      <td>e104664ba1792dde641d87cd5d95f1df06786140.jpg</td>\n",
       "      <td>HD</td>\n",
       "    </tr>\n",
       "    <tr>\n",
       "      <th>1</th>\n",
       "      <td>29</td>\n",
       "      <td>48990b5cbe173868040bd33f06fb1b80c2b4f28a.jpg</td>\n",
       "      <td>HD</td>\n",
       "    </tr>\n",
       "    <tr>\n",
       "      <th>2</th>\n",
       "      <td>230</td>\n",
       "      <td>9e111802446b62b86aeffe911415ad28227caba7.jpg</td>\n",
       "      <td>HD</td>\n",
       "    </tr>\n",
       "    <tr>\n",
       "      <th>3</th>\n",
       "      <td>43</td>\n",
       "      <td>f78fe5a461f28bc770a7dd856878bb4a314a9027.jpg</td>\n",
       "      <td>HD</td>\n",
       "    </tr>\n",
       "    <tr>\n",
       "      <th>4</th>\n",
       "      <td>51</td>\n",
       "      <td>62e96bf40409b3b6fd74065ab0bf3ec44f9d0a61.jpg</td>\n",
       "      <td>HD</td>\n",
       "    </tr>\n",
       "  </tbody>\n",
       "</table>\n",
       "</div>"
      ],
      "text/plain": [
       "   used_liter                                         image   q\n",
       "0          33  e104664ba1792dde641d87cd5d95f1df06786140.jpg  HD\n",
       "1          29  48990b5cbe173868040bd33f06fb1b80c2b4f28a.jpg  HD\n",
       "2         230  9e111802446b62b86aeffe911415ad28227caba7.jpg  HD\n",
       "3          43  f78fe5a461f28bc770a7dd856878bb4a314a9027.jpg  HD\n",
       "4          51  62e96bf40409b3b6fd74065ab0bf3ec44f9d0a61.jpg  HD"
      ]
     },
     "execution_count": 370,
     "metadata": {},
     "output_type": "execute_result"
    }
   ],
   "source": [
    "ground_truth.head()"
   ]
  },
  {
   "cell_type": "code",
   "execution_count": 371,
   "metadata": {},
   "outputs": [],
   "source": [
    "final = scores.merge(ground_truth, on=\"image\")"
   ]
  },
  {
   "cell_type": "code",
   "execution_count": 372,
   "metadata": {},
   "outputs": [
    {
     "data": {
      "text/html": [
       "<div>\n",
       "<style scoped>\n",
       "    .dataframe tbody tr th:only-of-type {\n",
       "        vertical-align: middle;\n",
       "    }\n",
       "\n",
       "    .dataframe tbody tr th {\n",
       "        vertical-align: top;\n",
       "    }\n",
       "\n",
       "    .dataframe thead th {\n",
       "        text-align: right;\n",
       "    }\n",
       "</style>\n",
       "<table border=\"1\" class=\"dataframe\">\n",
       "  <thead>\n",
       "    <tr style=\"text-align: right;\">\n",
       "      <th></th>\n",
       "      <th>image</th>\n",
       "      <th>used_liters_predict</th>\n",
       "      <th>used_liter</th>\n",
       "      <th>q</th>\n",
       "    </tr>\n",
       "  </thead>\n",
       "  <tbody>\n",
       "    <tr>\n",
       "      <th>0</th>\n",
       "      <td>00201faada9ddb1eb44736b913ec0af2334a8753.jpg</td>\n",
       "      <td>463.0</td>\n",
       "      <td>463</td>\n",
       "      <td>LA</td>\n",
       "    </tr>\n",
       "    <tr>\n",
       "      <th>1</th>\n",
       "      <td>0021b9d54ed9b15b961c3c946ec04d22fa4475d7.jpg</td>\n",
       "      <td>18022.0</td>\n",
       "      <td>18022</td>\n",
       "      <td>LA</td>\n",
       "    </tr>\n",
       "    <tr>\n",
       "      <th>2</th>\n",
       "      <td>002cb910bea6ad00376f54f511e28b7fd50ce22b.jpg</td>\n",
       "      <td>126.0</td>\n",
       "      <td>126</td>\n",
       "      <td>LA</td>\n",
       "    </tr>\n",
       "    <tr>\n",
       "      <th>3</th>\n",
       "      <td>003aba708b58d1cdc4322b5f203096d65e3e51c4.jpg</td>\n",
       "      <td>6.0</td>\n",
       "      <td>64</td>\n",
       "      <td>LA</td>\n",
       "    </tr>\n",
       "    <tr>\n",
       "      <th>4</th>\n",
       "      <td>003f850dd53366ca94bf48a6d47025d2e8241723.jpg</td>\n",
       "      <td>50.0</td>\n",
       "      <td>50</td>\n",
       "      <td>LD</td>\n",
       "    </tr>\n",
       "  </tbody>\n",
       "</table>\n",
       "</div>"
      ],
      "text/plain": [
       "                                          image  used_liters_predict  \\\n",
       "0  00201faada9ddb1eb44736b913ec0af2334a8753.jpg                463.0   \n",
       "1  0021b9d54ed9b15b961c3c946ec04d22fa4475d7.jpg              18022.0   \n",
       "2  002cb910bea6ad00376f54f511e28b7fd50ce22b.jpg                126.0   \n",
       "3  003aba708b58d1cdc4322b5f203096d65e3e51c4.jpg                  6.0   \n",
       "4  003f850dd53366ca94bf48a6d47025d2e8241723.jpg                 50.0   \n",
       "\n",
       "   used_liter   q  \n",
       "0         463  LA  \n",
       "1       18022  LA  \n",
       "2         126  LA  \n",
       "3          64  LA  \n",
       "4          50  LD  "
      ]
     },
     "execution_count": 372,
     "metadata": {},
     "output_type": "execute_result"
    }
   ],
   "source": [
    "final.head()"
   ]
  },
  {
   "cell_type": "code",
   "execution_count": 373,
   "metadata": {},
   "outputs": [],
   "source": [
    "final[\"correct\"] = np.abs(final[\"used_liters_predict\"] - final[\"used_liter\"])"
   ]
  },
  {
   "cell_type": "code",
   "execution_count": 395,
   "metadata": {},
   "outputs": [],
   "source": [
    "final[\"bool\"] = final[\"correct\"] <= 1"
   ]
  },
  {
   "cell_type": "code",
   "execution_count": 396,
   "metadata": {},
   "outputs": [
    {
     "data": {
      "text/plain": [
       "q\n",
       "HA    34\n",
       "HD    29\n",
       "LA    66\n",
       "LD    45\n",
       "MD    52\n",
       "Name: bool, dtype: int64"
      ]
     },
     "execution_count": 396,
     "metadata": {},
     "output_type": "execute_result"
    }
   ],
   "source": [
    "gb = final.groupby(\"q\")\n",
    "total = gb[\"bool\"].count()\n",
    "total"
   ]
  },
  {
   "cell_type": "code",
   "execution_count": 397,
   "metadata": {},
   "outputs": [
    {
     "data": {
      "text/plain": [
       "q\n",
       "HA    34\n",
       "HD    26\n",
       "LA    55\n",
       "LD    45\n",
       "MD    49\n",
       "Name: bool, dtype: int64"
      ]
     },
     "execution_count": 397,
     "metadata": {},
     "output_type": "execute_result"
    }
   ],
   "source": [
    "gb2 = final[final[\"bool\"] == True].groupby(\"q\")\n",
    "total2 = gb2[\"bool\"].count()\n",
    "total2"
   ]
  },
  {
   "cell_type": "code",
   "execution_count": 398,
   "metadata": {},
   "outputs": [
    {
     "data": {
      "text/plain": [
       "q\n",
       "HA    1.000000\n",
       "HD    0.896552\n",
       "LA    0.833333\n",
       "LD    1.000000\n",
       "MD    0.942308\n",
       "Name: bool, dtype: float64"
      ]
     },
     "execution_count": 398,
     "metadata": {},
     "output_type": "execute_result"
    }
   ],
   "source": [
    "total2/total"
   ]
  },
  {
   "cell_type": "code",
   "execution_count": 399,
   "metadata": {},
   "outputs": [],
   "source": [
    "test = total2/total"
   ]
  },
  {
   "cell_type": "code",
   "execution_count": 400,
   "metadata": {},
   "outputs": [],
   "source": [
    "test = test.reset_index()"
   ]
  },
  {
   "cell_type": "code",
   "execution_count": 401,
   "metadata": {},
   "outputs": [],
   "source": [
    "test.columns=[\"Quality\", \"Accuracy\"]"
   ]
  },
  {
   "cell_type": "code",
   "execution_count": 402,
   "metadata": {},
   "outputs": [
    {
     "data": {
      "text/html": [
       "<div>\n",
       "<style scoped>\n",
       "    .dataframe tbody tr th:only-of-type {\n",
       "        vertical-align: middle;\n",
       "    }\n",
       "\n",
       "    .dataframe tbody tr th {\n",
       "        vertical-align: top;\n",
       "    }\n",
       "\n",
       "    .dataframe thead th {\n",
       "        text-align: right;\n",
       "    }\n",
       "</style>\n",
       "<table border=\"1\" class=\"dataframe\">\n",
       "  <thead>\n",
       "    <tr style=\"text-align: right;\">\n",
       "      <th></th>\n",
       "      <th>Quality</th>\n",
       "      <th>Accuracy</th>\n",
       "    </tr>\n",
       "  </thead>\n",
       "  <tbody>\n",
       "    <tr>\n",
       "      <th>0</th>\n",
       "      <td>HA</td>\n",
       "      <td>1.000000</td>\n",
       "    </tr>\n",
       "    <tr>\n",
       "      <th>1</th>\n",
       "      <td>HD</td>\n",
       "      <td>0.896552</td>\n",
       "    </tr>\n",
       "    <tr>\n",
       "      <th>2</th>\n",
       "      <td>LA</td>\n",
       "      <td>0.833333</td>\n",
       "    </tr>\n",
       "    <tr>\n",
       "      <th>3</th>\n",
       "      <td>LD</td>\n",
       "      <td>1.000000</td>\n",
       "    </tr>\n",
       "    <tr>\n",
       "      <th>4</th>\n",
       "      <td>MD</td>\n",
       "      <td>0.942308</td>\n",
       "    </tr>\n",
       "  </tbody>\n",
       "</table>\n",
       "</div>"
      ],
      "text/plain": [
       "  Quality  Accuracy\n",
       "0      HA  1.000000\n",
       "1      HD  0.896552\n",
       "2      LA  0.833333\n",
       "3      LD  1.000000\n",
       "4      MD  0.942308"
      ]
     },
     "execution_count": 402,
     "metadata": {},
     "output_type": "execute_result"
    }
   ],
   "source": [
    "test"
   ]
  },
  {
   "cell_type": "code",
   "execution_count": 403,
   "metadata": {},
   "outputs": [
    {
     "data": {
      "text/plain": [
       "<matplotlib.axes._subplots.AxesSubplot at 0x1ea0d5d3ac8>"
      ]
     },
     "execution_count": 403,
     "metadata": {},
     "output_type": "execute_result"
    },
    {
     "data": {
      "image/png": "[encoded data removed]",
      "text/plain": [
       "<Figure size 432x288 with 1 Axes>"
      ]
     },
     "metadata": {
      "needs_background": "light"
     },
     "output_type": "display_data"
    }
   ],
   "source": [
    "(total2/total).sort_values().plot.bar(color='b')"
   ]
  },
  {
   "cell_type": "code",
   "execution_count": 404,
   "metadata": {},
   "outputs": [
    {
     "data": {
      "text/plain": [
       "image                  0.924779\n",
       "used_liters_predict    0.924779\n",
       "used_liter             0.924779\n",
       "q                      0.924779\n",
       "correct                0.924779\n",
       "bool                   0.924779\n",
       "dtype: float64"
      ]
     },
     "execution_count": 404,
     "metadata": {},
     "output_type": "execute_result"
    }
   ],
   "source": [
    "final[final[\"bool\"] == True].count() / len(final.index)"
   ]
  },
  {
   "cell_type": "code",
   "execution_count": 405,
   "metadata": {
    "scrolled": false
   },
   "outputs": [
    {
     "data": {
      "text/html": [
       "<div>\n",
       "<style scoped>\n",
       "    .dataframe tbody tr th:only-of-type {\n",
       "        vertical-align: middle;\n",
       "    }\n",
       "\n",
       "    .dataframe tbody tr th {\n",
       "        vertical-align: top;\n",
       "    }\n",
       "\n",
       "    .dataframe thead th {\n",
       "        text-align: right;\n",
       "    }\n",
       "</style>\n",
       "<table border=\"1\" class=\"dataframe\">\n",
       "  <thead>\n",
       "    <tr style=\"text-align: right;\">\n",
       "      <th></th>\n",
       "      <th>image</th>\n",
       "      <th>used_liters_predict</th>\n",
       "      <th>used_liter</th>\n",
       "      <th>q</th>\n",
       "      <th>correct</th>\n",
       "      <th>bool</th>\n",
       "    </tr>\n",
       "  </thead>\n",
       "  <tbody>\n",
       "    <tr>\n",
       "      <th>3</th>\n",
       "      <td>003aba708b58d1cdc4322b5f203096d65e3e51c4.jpg</td>\n",
       "      <td>6.0</td>\n",
       "      <td>64</td>\n",
       "      <td>LA</td>\n",
       "      <td>58.0</td>\n",
       "      <td>False</td>\n",
       "    </tr>\n",
       "    <tr>\n",
       "      <th>11</th>\n",
       "      <td>01230cb83c6ca74e7c54813dec474cef9114ab93.jpg</td>\n",
       "      <td>86.0</td>\n",
       "      <td>88</td>\n",
       "      <td>LA</td>\n",
       "      <td>2.0</td>\n",
       "      <td>False</td>\n",
       "    </tr>\n",
       "    <tr>\n",
       "      <th>22</th>\n",
       "      <td>01edaa6408cdcef6a4159c04fd120c2113fb839e.jpg</td>\n",
       "      <td>1877.0</td>\n",
       "      <td>188</td>\n",
       "      <td>LA</td>\n",
       "      <td>1689.0</td>\n",
       "      <td>False</td>\n",
       "    </tr>\n",
       "    <tr>\n",
       "      <th>23</th>\n",
       "      <td>01ef00a01ef527d6b6f5c140f607738ed3774a69.jpg</td>\n",
       "      <td>141.0</td>\n",
       "      <td>213</td>\n",
       "      <td>LA</td>\n",
       "      <td>72.0</td>\n",
       "      <td>False</td>\n",
       "    </tr>\n",
       "    <tr>\n",
       "      <th>24</th>\n",
       "      <td>01fea40101d11d0f31dbaa13bfcd9c64e54cec2d.jpg</td>\n",
       "      <td>85.0</td>\n",
       "      <td>286</td>\n",
       "      <td>LA</td>\n",
       "      <td>201.0</td>\n",
       "      <td>False</td>\n",
       "    </tr>\n",
       "    <tr>\n",
       "      <th>25</th>\n",
       "      <td>020340015a4ed64ee77778fcc03a4f5328f0b38c.jpg</td>\n",
       "      <td>52.0</td>\n",
       "      <td>523</td>\n",
       "      <td>LA</td>\n",
       "      <td>471.0</td>\n",
       "      <td>False</td>\n",
       "    </tr>\n",
       "    <tr>\n",
       "      <th>43</th>\n",
       "      <td>03b1e01ccce98f8b9646afa8b75ce81e90188a72.jpg</td>\n",
       "      <td>27.0</td>\n",
       "      <td>273</td>\n",
       "      <td>LA</td>\n",
       "      <td>246.0</td>\n",
       "      <td>False</td>\n",
       "    </tr>\n",
       "    <tr>\n",
       "      <th>49</th>\n",
       "      <td>0439c7e7bc2d6c0a85ca45111f15f0a859468be0.jpg</td>\n",
       "      <td>1207.0</td>\n",
       "      <td>208</td>\n",
       "      <td>MD</td>\n",
       "      <td>999.0</td>\n",
       "      <td>False</td>\n",
       "    </tr>\n",
       "    <tr>\n",
       "      <th>60</th>\n",
       "      <td>05417700b76f523cc74f17d86d778a5273d99869.jpg</td>\n",
       "      <td>157.0</td>\n",
       "      <td>57</td>\n",
       "      <td>MD</td>\n",
       "      <td>100.0</td>\n",
       "      <td>False</td>\n",
       "    </tr>\n",
       "    <tr>\n",
       "      <th>91</th>\n",
       "      <td>0b21b4461483bedb04c0aa7032af8fd6deb6822c.jpg</td>\n",
       "      <td>20.0</td>\n",
       "      <td>229</td>\n",
       "      <td>LA</td>\n",
       "      <td>209.0</td>\n",
       "      <td>False</td>\n",
       "    </tr>\n",
       "    <tr>\n",
       "      <th>121</th>\n",
       "      <td>1235d91d9ae68c33c15a220d4bcae117d8dea312.jpg</td>\n",
       "      <td>8443.0</td>\n",
       "      <td>36</td>\n",
       "      <td>LA</td>\n",
       "      <td>8407.0</td>\n",
       "      <td>False</td>\n",
       "    </tr>\n",
       "    <tr>\n",
       "      <th>141</th>\n",
       "      <td>1531360520f1efee4815955388214e50d71bbba7.jpg</td>\n",
       "      <td>8.0</td>\n",
       "      <td>509</td>\n",
       "      <td>LA</td>\n",
       "      <td>501.0</td>\n",
       "      <td>False</td>\n",
       "    </tr>\n",
       "    <tr>\n",
       "      <th>157</th>\n",
       "      <td>1987b69bdee7fd737b6ef22f4a2b62748b08eb5f.jpg</td>\n",
       "      <td>241.0</td>\n",
       "      <td>2411</td>\n",
       "      <td>LA</td>\n",
       "      <td>2170.0</td>\n",
       "      <td>False</td>\n",
       "    </tr>\n",
       "    <tr>\n",
       "      <th>199</th>\n",
       "      <td>24257919ad3a4436ff6b6cd21b5905215e057754.jpg</td>\n",
       "      <td>4111.0</td>\n",
       "      <td>412</td>\n",
       "      <td>MD</td>\n",
       "      <td>3699.0</td>\n",
       "      <td>False</td>\n",
       "    </tr>\n",
       "    <tr>\n",
       "      <th>202</th>\n",
       "      <td>3783acb95a917cf46cd7dc0fdcf9466cc98707bb.jpg</td>\n",
       "      <td>3500.0</td>\n",
       "      <td>35</td>\n",
       "      <td>HD</td>\n",
       "      <td>3465.0</td>\n",
       "      <td>False</td>\n",
       "    </tr>\n",
       "    <tr>\n",
       "      <th>203</th>\n",
       "      <td>46fa7d1747356d68ecae9b59cd6ae8086fd6123f.jpg</td>\n",
       "      <td>6000.0</td>\n",
       "      <td>61</td>\n",
       "      <td>HD</td>\n",
       "      <td>5939.0</td>\n",
       "      <td>False</td>\n",
       "    </tr>\n",
       "    <tr>\n",
       "      <th>205</th>\n",
       "      <td>5232b54dc19f64026dde07b3d3f3b7b868162352.jpg</td>\n",
       "      <td>22.0</td>\n",
       "      <td>227</td>\n",
       "      <td>HD</td>\n",
       "      <td>205.0</td>\n",
       "      <td>False</td>\n",
       "    </tr>\n",
       "  </tbody>\n",
       "</table>\n",
       "</div>"
      ],
      "text/plain": [
       "                                            image  used_liters_predict  \\\n",
       "3    003aba708b58d1cdc4322b5f203096d65e3e51c4.jpg                  6.0   \n",
       "11   01230cb83c6ca74e7c54813dec474cef9114ab93.jpg                 86.0   \n",
       "22   01edaa6408cdcef6a4159c04fd120c2113fb839e.jpg               1877.0   \n",
       "23   01ef00a01ef527d6b6f5c140f607738ed3774a69.jpg                141.0   \n",
       "24   01fea40101d11d0f31dbaa13bfcd9c64e54cec2d.jpg                 85.0   \n",
       "25   020340015a4ed64ee77778fcc03a4f5328f0b38c.jpg                 52.0   \n",
       "43   03b1e01ccce98f8b9646afa8b75ce81e90188a72.jpg                 27.0   \n",
       "49   0439c7e7bc2d6c0a85ca45111f15f0a859468be0.jpg               1207.0   \n",
       "60   05417700b76f523cc74f17d86d778a5273d99869.jpg                157.0   \n",
       "91   0b21b4461483bedb04c0aa7032af8fd6deb6822c.jpg                 20.0   \n",
       "121  1235d91d9ae68c33c15a220d4bcae117d8dea312.jpg               8443.0   \n",
       "141  1531360520f1efee4815955388214e50d71bbba7.jpg                  8.0   \n",
       "157  1987b69bdee7fd737b6ef22f4a2b62748b08eb5f.jpg                241.0   \n",
       "199  24257919ad3a4436ff6b6cd21b5905215e057754.jpg               4111.0   \n",
       "202  3783acb95a917cf46cd7dc0fdcf9466cc98707bb.jpg               3500.0   \n",
       "203  46fa7d1747356d68ecae9b59cd6ae8086fd6123f.jpg               6000.0   \n",
       "205  5232b54dc19f64026dde07b3d3f3b7b868162352.jpg                 22.0   \n",
       "\n",
       "     used_liter   q  correct   bool  \n",
       "3            64  LA     58.0  False  \n",
       "11           88  LA      2.0  False  \n",
       "22          188  LA   1689.0  False  \n",
       "23          213  LA     72.0  False  \n",
       "24          286  LA    201.0  False  \n",
       "25          523  LA    471.0  False  \n",
       "43          273  LA    246.0  False  \n",
       "49          208  MD    999.0  False  \n",
       "60           57  MD    100.0  False  \n",
       "91          229  LA    209.0  False  \n",
       "121          36  LA   8407.0  False  \n",
       "141         509  LA    501.0  False  \n",
       "157        2411  LA   2170.0  False  \n",
       "199         412  MD   3699.0  False  \n",
       "202          35  HD   3465.0  False  \n",
       "203          61  HD   5939.0  False  \n",
       "205         227  HD    205.0  False  "
      ]
     },
     "execution_count": 405,
     "metadata": {},
     "output_type": "execute_result"
    }
   ],
   "source": [
    "final[final[\"bool\"] == False]"
   ]
  },
  {
   "cell_type": "code",
   "execution_count": null,
   "metadata": {},
   "outputs": [],
   "source": []
  }
 ],
 "metadata": {
  "kernelspec": {
   "display_name": "Python 3",
   "language": "python",
   "name": "python3"
  },
  "language_info": {
   "codemirror_mode": {
    "name": "ipython",
    "version": 3
   },
   "file_extension": ".py",
   "mimetype": "text/x-python",
   "name": "python",
   "nbconvert_exporter": "python",
   "pygments_lexer": "ipython3",
   "version": "3.6.1"
  }
 },
 "nbformat": 4,
 "nbformat_minor": 2
}
