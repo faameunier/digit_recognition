{
 "cells": [
  {
   "cell_type": "code",
   "execution_count": 27,
   "metadata": {},
   "outputs": [
    {
     "data": {
      "text/plain": [
       "<module 'oma.pascal.pascal' from '/home/jupyter/digit_recognition/oma/pascal/pascal.py'>"
      ]
     },
     "execution_count": 27,
     "metadata": {},
     "output_type": "execute_result"
    }
   ],
   "source": [
    "import oma\n",
    "import pandas as pd\n",
    "\n",
    "from importlib import reload\n",
    "\n",
    "reload(oma.pascal)\n",
    "reload(oma.pascal.pascal)"
   ]
  },
  {
   "cell_type": "markdown",
   "metadata": {},
   "source": [
    "# Correct paths to relative paths"
   ]
  },
  {
   "cell_type": "code",
   "execution_count": 17,
   "metadata": {},
   "outputs": [
    {
     "name": "stderr",
     "output_type": "stream",
     "text": [
      "100%|██████████| 1128/1128 [00:01<00:00, 841.45it/s]\n"
     ]
    }
   ],
   "source": [
    "oma.pascal.pascal.correct_all_paths('Datasets/labels/', 'Datasets/img/')"
   ]
  },
  {
   "cell_type": "markdown",
   "metadata": {},
   "source": [
    "# Get all objects"
   ]
  },
  {
   "cell_type": "code",
   "execution_count": 18,
   "metadata": {},
   "outputs": [
    {
     "name": "stderr",
     "output_type": "stream",
     "text": [
      "100%|██████████| 1128/1128 [00:19<00:00, 51.43it/s]\n"
     ]
    }
   ],
   "source": [
    "objects = oma.pascal.pascal.get_all_objects('Datasets/labels/')"
   ]
  },
  {
   "cell_type": "code",
   "execution_count": 19,
   "metadata": {},
   "outputs": [
    {
     "data": {
      "text/plain": [
       "category\n",
       "\"        1\n",
       ".      621\n",
       "0     2052\n",
       "1      620\n",
       "2      436\n",
       "3      317\n",
       "3$       1\n",
       "4      334\n",
       "5      324\n",
       "6      318\n",
       "7      252\n",
       "8      245\n",
       "9      204\n",
       "Name: category, dtype: int64"
      ]
     },
     "execution_count": 19,
     "metadata": {},
     "output_type": "execute_result"
    }
   ],
   "source": [
    "objects.groupby(\"category\")[\"category\"].count()"
   ]
  },
  {
   "cell_type": "code",
   "execution_count": 20,
   "metadata": {},
   "outputs": [
    {
     "data": {
      "text/html": [
       "<div>\n",
       "<style scoped>\n",
       "    .dataframe tbody tr th:only-of-type {\n",
       "        vertical-align: middle;\n",
       "    }\n",
       "\n",
       "    .dataframe tbody tr th {\n",
       "        vertical-align: top;\n",
       "    }\n",
       "\n",
       "    .dataframe thead th {\n",
       "        text-align: right;\n",
       "    }\n",
       "</style>\n",
       "<table border=\"1\" class=\"dataframe\">\n",
       "  <thead>\n",
       "    <tr style=\"text-align: right;\">\n",
       "      <th></th>\n",
       "      <th>image_path</th>\n",
       "      <th>name</th>\n",
       "      <th>category</th>\n",
       "      <th>object_n</th>\n",
       "      <th>xmin</th>\n",
       "      <th>xmax</th>\n",
       "      <th>ymin</th>\n",
       "      <th>ymax</th>\n",
       "    </tr>\n",
       "  </thead>\n",
       "  <tbody>\n",
       "    <tr>\n",
       "      <th>0</th>\n",
       "      <td>Datasets/img/0a91306935c27a3d5b374044ce64ace96...</td>\n",
       "      <td>0a91306935c27a3d5b374044ce64ace9678da64e</td>\n",
       "      <td>0</td>\n",
       "      <td>0</td>\n",
       "      <td>561</td>\n",
       "      <td>678</td>\n",
       "      <td>488</td>\n",
       "      <td>648</td>\n",
       "    </tr>\n",
       "    <tr>\n",
       "      <th>1</th>\n",
       "      <td>Datasets/img/0a91306935c27a3d5b374044ce64ace96...</td>\n",
       "      <td>0a91306935c27a3d5b374044ce64ace9678da64e</td>\n",
       "      <td>0</td>\n",
       "      <td>1</td>\n",
       "      <td>801</td>\n",
       "      <td>907</td>\n",
       "      <td>486</td>\n",
       "      <td>648</td>\n",
       "    </tr>\n",
       "    <tr>\n",
       "      <th>2</th>\n",
       "      <td>Datasets/img/0a91306935c27a3d5b374044ce64ace96...</td>\n",
       "      <td>0a91306935c27a3d5b374044ce64ace9678da64e</td>\n",
       "      <td>1</td>\n",
       "      <td>2</td>\n",
       "      <td>1047</td>\n",
       "      <td>1153</td>\n",
       "      <td>501</td>\n",
       "      <td>659</td>\n",
       "    </tr>\n",
       "    <tr>\n",
       "      <th>3</th>\n",
       "      <td>Datasets/img/0a91306935c27a3d5b374044ce64ace96...</td>\n",
       "      <td>0a91306935c27a3d5b374044ce64ace9678da64e</td>\n",
       "      <td>6</td>\n",
       "      <td>3</td>\n",
       "      <td>1257</td>\n",
       "      <td>1359</td>\n",
       "      <td>505</td>\n",
       "      <td>663</td>\n",
       "    </tr>\n",
       "    <tr>\n",
       "      <th>4</th>\n",
       "      <td>Datasets/img/0a91306935c27a3d5b374044ce64ace96...</td>\n",
       "      <td>0a91306935c27a3d5b374044ce64ace9678da64e</td>\n",
       "      <td>0</td>\n",
       "      <td>4</td>\n",
       "      <td>1480</td>\n",
       "      <td>1588</td>\n",
       "      <td>501</td>\n",
       "      <td>642</td>\n",
       "    </tr>\n",
       "  </tbody>\n",
       "</table>\n",
       "</div>"
      ],
      "text/plain": [
       "                                          image_path  \\\n",
       "0  Datasets/img/0a91306935c27a3d5b374044ce64ace96...   \n",
       "1  Datasets/img/0a91306935c27a3d5b374044ce64ace96...   \n",
       "2  Datasets/img/0a91306935c27a3d5b374044ce64ace96...   \n",
       "3  Datasets/img/0a91306935c27a3d5b374044ce64ace96...   \n",
       "4  Datasets/img/0a91306935c27a3d5b374044ce64ace96...   \n",
       "\n",
       "                                       name category object_n  xmin  xmax  \\\n",
       "0  0a91306935c27a3d5b374044ce64ace9678da64e        0        0   561   678   \n",
       "1  0a91306935c27a3d5b374044ce64ace9678da64e        0        1   801   907   \n",
       "2  0a91306935c27a3d5b374044ce64ace9678da64e        1        2  1047  1153   \n",
       "3  0a91306935c27a3d5b374044ce64ace9678da64e        6        3  1257  1359   \n",
       "4  0a91306935c27a3d5b374044ce64ace9678da64e        0        4  1480  1588   \n",
       "\n",
       "  ymin ymax  \n",
       "0  488  648  \n",
       "1  486  648  \n",
       "2  501  659  \n",
       "3  505  663  \n",
       "4  501  642  "
      ]
     },
     "execution_count": 20,
     "metadata": {},
     "output_type": "execute_result"
    }
   ],
   "source": [
    "objects.head()"
   ]
  },
  {
   "cell_type": "markdown",
   "metadata": {},
   "source": [
    "# Export to FRCNN format"
   ]
  },
  {
   "cell_type": "code",
   "execution_count": 21,
   "metadata": {},
   "outputs": [
    {
     "data": {
      "text/html": [
       "<div>\n",
       "<style scoped>\n",
       "    .dataframe tbody tr th:only-of-type {\n",
       "        vertical-align: middle;\n",
       "    }\n",
       "\n",
       "    .dataframe tbody tr th {\n",
       "        vertical-align: top;\n",
       "    }\n",
       "\n",
       "    .dataframe thead th {\n",
       "        text-align: right;\n",
       "    }\n",
       "</style>\n",
       "<table border=\"1\" class=\"dataframe\">\n",
       "  <thead>\n",
       "    <tr style=\"text-align: right;\">\n",
       "      <th></th>\n",
       "      <th>image_path</th>\n",
       "      <th>name</th>\n",
       "      <th>category</th>\n",
       "      <th>object_n</th>\n",
       "      <th>xmin</th>\n",
       "      <th>xmax</th>\n",
       "      <th>ymin</th>\n",
       "      <th>ymax</th>\n",
       "    </tr>\n",
       "  </thead>\n",
       "  <tbody>\n",
       "    <tr>\n",
       "      <th>0</th>\n",
       "      <td>Datasets/img/0a91306935c27a3d5b374044ce64ace96...</td>\n",
       "      <td>0a91306935c27a3d5b374044ce64ace9678da64e</td>\n",
       "      <td>0</td>\n",
       "      <td>0</td>\n",
       "      <td>561</td>\n",
       "      <td>678</td>\n",
       "      <td>488</td>\n",
       "      <td>648</td>\n",
       "    </tr>\n",
       "    <tr>\n",
       "      <th>1</th>\n",
       "      <td>Datasets/img/0a91306935c27a3d5b374044ce64ace96...</td>\n",
       "      <td>0a91306935c27a3d5b374044ce64ace9678da64e</td>\n",
       "      <td>0</td>\n",
       "      <td>1</td>\n",
       "      <td>801</td>\n",
       "      <td>907</td>\n",
       "      <td>486</td>\n",
       "      <td>648</td>\n",
       "    </tr>\n",
       "    <tr>\n",
       "      <th>2</th>\n",
       "      <td>Datasets/img/0a91306935c27a3d5b374044ce64ace96...</td>\n",
       "      <td>0a91306935c27a3d5b374044ce64ace9678da64e</td>\n",
       "      <td>1</td>\n",
       "      <td>2</td>\n",
       "      <td>1047</td>\n",
       "      <td>1153</td>\n",
       "      <td>501</td>\n",
       "      <td>659</td>\n",
       "    </tr>\n",
       "    <tr>\n",
       "      <th>3</th>\n",
       "      <td>Datasets/img/0a91306935c27a3d5b374044ce64ace96...</td>\n",
       "      <td>0a91306935c27a3d5b374044ce64ace9678da64e</td>\n",
       "      <td>6</td>\n",
       "      <td>3</td>\n",
       "      <td>1257</td>\n",
       "      <td>1359</td>\n",
       "      <td>505</td>\n",
       "      <td>663</td>\n",
       "    </tr>\n",
       "    <tr>\n",
       "      <th>4</th>\n",
       "      <td>Datasets/img/0a91306935c27a3d5b374044ce64ace96...</td>\n",
       "      <td>0a91306935c27a3d5b374044ce64ace9678da64e</td>\n",
       "      <td>0</td>\n",
       "      <td>4</td>\n",
       "      <td>1480</td>\n",
       "      <td>1588</td>\n",
       "      <td>501</td>\n",
       "      <td>642</td>\n",
       "    </tr>\n",
       "  </tbody>\n",
       "</table>\n",
       "</div>"
      ],
      "text/plain": [
       "                                          image_path  \\\n",
       "0  Datasets/img/0a91306935c27a3d5b374044ce64ace96...   \n",
       "1  Datasets/img/0a91306935c27a3d5b374044ce64ace96...   \n",
       "2  Datasets/img/0a91306935c27a3d5b374044ce64ace96...   \n",
       "3  Datasets/img/0a91306935c27a3d5b374044ce64ace96...   \n",
       "4  Datasets/img/0a91306935c27a3d5b374044ce64ace96...   \n",
       "\n",
       "                                       name category object_n  xmin  xmax  \\\n",
       "0  0a91306935c27a3d5b374044ce64ace9678da64e        0        0   561   678   \n",
       "1  0a91306935c27a3d5b374044ce64ace9678da64e        0        1   801   907   \n",
       "2  0a91306935c27a3d5b374044ce64ace9678da64e        1        2  1047  1153   \n",
       "3  0a91306935c27a3d5b374044ce64ace9678da64e        6        3  1257  1359   \n",
       "4  0a91306935c27a3d5b374044ce64ace9678da64e        0        4  1480  1588   \n",
       "\n",
       "  ymin ymax  \n",
       "0  488  648  \n",
       "1  486  648  \n",
       "2  501  659  \n",
       "3  505  663  \n",
       "4  501  642  "
      ]
     },
     "execution_count": 21,
     "metadata": {},
     "output_type": "execute_result"
    }
   ],
   "source": [
    "objects.head()"
   ]
  },
  {
   "cell_type": "code",
   "execution_count": 28,
   "metadata": {},
   "outputs": [],
   "source": [
    "res = oma.pascal.pascal.objects_to_FRCNN(objects, \"data/frcnn_df.h5\", 0.2)\n",
    "res = pd.read_hdf(\"data/frcnn_df.h5\")"
   ]
  },
  {
   "cell_type": "code",
   "execution_count": 29,
   "metadata": {},
   "outputs": [
    {
     "data": {
      "text/html": [
       "<div>\n",
       "<style scoped>\n",
       "    .dataframe tbody tr th:only-of-type {\n",
       "        vertical-align: middle;\n",
       "    }\n",
       "\n",
       "    .dataframe tbody tr th {\n",
       "        vertical-align: top;\n",
       "    }\n",
       "\n",
       "    .dataframe thead th {\n",
       "        text-align: right;\n",
       "    }\n",
       "</style>\n",
       "<table border=\"1\" class=\"dataframe\">\n",
       "  <thead>\n",
       "    <tr style=\"text-align: right;\">\n",
       "      <th></th>\n",
       "      <th>image_path</th>\n",
       "      <th>xmin</th>\n",
       "      <th>ymin</th>\n",
       "      <th>xmax</th>\n",
       "      <th>ymax</th>\n",
       "      <th>category</th>\n",
       "      <th>type</th>\n",
       "    </tr>\n",
       "  </thead>\n",
       "  <tbody>\n",
       "    <tr>\n",
       "      <th>0</th>\n",
       "      <td>Datasets/img/0a91306935c27a3d5b374044ce64ace96...</td>\n",
       "      <td>561</td>\n",
       "      <td>488</td>\n",
       "      <td>678</td>\n",
       "      <td>648</td>\n",
       "      <td>0</td>\n",
       "      <td>val</td>\n",
       "    </tr>\n",
       "    <tr>\n",
       "      <th>1</th>\n",
       "      <td>Datasets/img/0a91306935c27a3d5b374044ce64ace96...</td>\n",
       "      <td>801</td>\n",
       "      <td>486</td>\n",
       "      <td>907</td>\n",
       "      <td>648</td>\n",
       "      <td>0</td>\n",
       "      <td>val</td>\n",
       "    </tr>\n",
       "    <tr>\n",
       "      <th>2</th>\n",
       "      <td>Datasets/img/0a91306935c27a3d5b374044ce64ace96...</td>\n",
       "      <td>1047</td>\n",
       "      <td>501</td>\n",
       "      <td>1153</td>\n",
       "      <td>659</td>\n",
       "      <td>1</td>\n",
       "      <td>val</td>\n",
       "    </tr>\n",
       "    <tr>\n",
       "      <th>3</th>\n",
       "      <td>Datasets/img/0a91306935c27a3d5b374044ce64ace96...</td>\n",
       "      <td>1257</td>\n",
       "      <td>505</td>\n",
       "      <td>1359</td>\n",
       "      <td>663</td>\n",
       "      <td>6</td>\n",
       "      <td>val</td>\n",
       "    </tr>\n",
       "    <tr>\n",
       "      <th>4</th>\n",
       "      <td>Datasets/img/0a91306935c27a3d5b374044ce64ace96...</td>\n",
       "      <td>1480</td>\n",
       "      <td>501</td>\n",
       "      <td>1588</td>\n",
       "      <td>642</td>\n",
       "      <td>0</td>\n",
       "      <td>val</td>\n",
       "    </tr>\n",
       "  </tbody>\n",
       "</table>\n",
       "</div>"
      ],
      "text/plain": [
       "                                          image_path  xmin ymin  xmax ymax  \\\n",
       "0  Datasets/img/0a91306935c27a3d5b374044ce64ace96...   561  488   678  648   \n",
       "1  Datasets/img/0a91306935c27a3d5b374044ce64ace96...   801  486   907  648   \n",
       "2  Datasets/img/0a91306935c27a3d5b374044ce64ace96...  1047  501  1153  659   \n",
       "3  Datasets/img/0a91306935c27a3d5b374044ce64ace96...  1257  505  1359  663   \n",
       "4  Datasets/img/0a91306935c27a3d5b374044ce64ace96...  1480  501  1588  642   \n",
       "\n",
       "  category type  \n",
       "0        0  val  \n",
       "1        0  val  \n",
       "2        1  val  \n",
       "3        6  val  \n",
       "4        0  val  "
      ]
     },
     "execution_count": 29,
     "metadata": {},
     "output_type": "execute_result"
    }
   ],
   "source": [
    "res.head()"
   ]
  },
  {
   "cell_type": "code",
   "execution_count": 8,
   "metadata": {},
   "outputs": [
    {
     "data": {
      "text/html": [
       "<div>\n",
       "<style scoped>\n",
       "    .dataframe tbody tr th:only-of-type {\n",
       "        vertical-align: middle;\n",
       "    }\n",
       "\n",
       "    .dataframe tbody tr th {\n",
       "        vertical-align: top;\n",
       "    }\n",
       "\n",
       "    .dataframe thead th {\n",
       "        text-align: right;\n",
       "    }\n",
       "</style>\n",
       "<table border=\"1\" class=\"dataframe\">\n",
       "  <thead>\n",
       "    <tr style=\"text-align: right;\">\n",
       "      <th></th>\n",
       "      <th>image_path</th>\n",
       "      <th>xmin</th>\n",
       "      <th>ymin</th>\n",
       "      <th>xmax</th>\n",
       "      <th>ymax</th>\n",
       "      <th>category</th>\n",
       "      <th>type</th>\n",
       "    </tr>\n",
       "  </thead>\n",
       "  <tbody>\n",
       "    <tr>\n",
       "      <th>0</th>\n",
       "      <td>Datasets/img/0a91306935c27a3d5b374044ce64ace96...</td>\n",
       "      <td>561</td>\n",
       "      <td>488</td>\n",
       "      <td>678</td>\n",
       "      <td>648</td>\n",
       "      <td>0</td>\n",
       "      <td>test</td>\n",
       "    </tr>\n",
       "    <tr>\n",
       "      <th>1</th>\n",
       "      <td>Datasets/img/0a91306935c27a3d5b374044ce64ace96...</td>\n",
       "      <td>801</td>\n",
       "      <td>486</td>\n",
       "      <td>907</td>\n",
       "      <td>648</td>\n",
       "      <td>0</td>\n",
       "      <td>train</td>\n",
       "    </tr>\n",
       "    <tr>\n",
       "      <th>2</th>\n",
       "      <td>Datasets/img/0a91306935c27a3d5b374044ce64ace96...</td>\n",
       "      <td>1047</td>\n",
       "      <td>501</td>\n",
       "      <td>1153</td>\n",
       "      <td>659</td>\n",
       "      <td>1</td>\n",
       "      <td>train</td>\n",
       "    </tr>\n",
       "    <tr>\n",
       "      <th>3</th>\n",
       "      <td>Datasets/img/0a91306935c27a3d5b374044ce64ace96...</td>\n",
       "      <td>1257</td>\n",
       "      <td>505</td>\n",
       "      <td>1359</td>\n",
       "      <td>663</td>\n",
       "      <td>6</td>\n",
       "      <td>train</td>\n",
       "    </tr>\n",
       "    <tr>\n",
       "      <th>4</th>\n",
       "      <td>Datasets/img/0a91306935c27a3d5b374044ce64ace96...</td>\n",
       "      <td>1480</td>\n",
       "      <td>501</td>\n",
       "      <td>1588</td>\n",
       "      <td>642</td>\n",
       "      <td>0</td>\n",
       "      <td>train</td>\n",
       "    </tr>\n",
       "  </tbody>\n",
       "</table>\n",
       "</div>"
      ],
      "text/plain": [
       "                                          image_path  xmin ymin  xmax ymax  \\\n",
       "0  Datasets/img/0a91306935c27a3d5b374044ce64ace96...   561  488   678  648   \n",
       "1  Datasets/img/0a91306935c27a3d5b374044ce64ace96...   801  486   907  648   \n",
       "2  Datasets/img/0a91306935c27a3d5b374044ce64ace96...  1047  501  1153  659   \n",
       "3  Datasets/img/0a91306935c27a3d5b374044ce64ace96...  1257  505  1359  663   \n",
       "4  Datasets/img/0a91306935c27a3d5b374044ce64ace96...  1480  501  1588  642   \n",
       "\n",
       "  category   type  \n",
       "0        0   test  \n",
       "1        0  train  \n",
       "2        1  train  \n",
       "3        6  train  \n",
       "4        0  train  "
      ]
     },
     "execution_count": 8,
     "metadata": {},
     "output_type": "execute_result"
    }
   ],
   "source": [
    "res.head()"
   ]
  },
  {
   "cell_type": "code",
   "execution_count": 36,
   "metadata": {},
   "outputs": [
    {
     "data": {
      "text/plain": [
       "1128"
      ]
     },
     "execution_count": 36,
     "metadata": {},
     "output_type": "execute_result"
    }
   ],
   "source": [
    "len(res[res[\"type\"] == \"test\"][\"image_path\"].unique()) + len(res[res[\"type\"] == \"train\"][\"image_path\"].unique()) + len(res[res[\"type\"] == \"val\"][\"image_path\"].unique()) "
   ]
  },
  {
   "cell_type": "code",
   "execution_count": 37,
   "metadata": {},
   "outputs": [],
   "source": [
    "test_imgs = res[res[\"type\"] == \"test\"][\"image_path\"].unique()\n",
    "train_imgs = res[res[\"type\"] == \"train\"][\"image_path\"].unique()\n",
    "val_imgs = res[res[\"type\"] == \"val\"][\"image_path\"].unique()"
   ]
  },
  {
   "cell_type": "code",
   "execution_count": 39,
   "metadata": {},
   "outputs": [],
   "source": [
    "for k in test_imgs:\n",
    "    if k in val_imgs:\n",
    "        raise Exception(\"huhu\")"
   ]
  }
 ],
 "metadata": {
  "kernelspec": {
   "display_name": "Python 3",
   "language": "python",
   "name": "python3"
  },
  "language_info": {
   "codemirror_mode": {
    "name": "ipython",
    "version": 3
   },
   "file_extension": ".py",
   "mimetype": "text/x-python",
   "name": "python",
   "nbconvert_exporter": "python",
   "pygments_lexer": "ipython3",
   "version": "3.5.3"
  }
 },
 "nbformat": 4,
 "nbformat_minor": 2
}
